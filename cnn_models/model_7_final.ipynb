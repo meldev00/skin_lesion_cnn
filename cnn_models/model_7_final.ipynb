{
 "cells": [
  {
   "cell_type": "markdown",
   "metadata": {},
   "source": [
    "## Model 7: Best Accuracy"
   ]
  },
  {
   "cell_type": "code",
   "execution_count": 1,
   "metadata": {},
   "outputs": [
    {
     "name": "stderr",
     "output_type": "stream",
     "text": [
      "Using TensorFlow backend.\n"
     ]
    }
   ],
   "source": [
    "#imports\n",
    "from keras.layers import Dense, Conv2D, MaxPooling2D, Flatten, Dropout\n",
    "from keras.models import Sequential\n",
    "from keras import optimizers\n",
    "from keras.preprocessing.image import ImageDataGenerator\n",
    "\n",
    "import matplotlib.pyplot as plt\n",
    "\n",
    "import os\n",
    "from os import listdir\n",
    "os.environ['KMP_DUPLICATE_LIB_OK']='True' #needed this so that my kernel didn't die when plotting\n",
    "import warnings\n",
    "warnings.filterwarnings(\"ignore\")"
   ]
  },
  {
   "cell_type": "code",
   "execution_count": 16,
   "metadata": {},
   "outputs": [],
   "source": [
    "#list of directories\n",
    "base_directory = \"../skin-cancer-mnist-ham10000\"\n",
    "\n",
    "test_directory = os.path.join(base_directory, 'image_data_test')\n",
    "train_directory = os.path.join(base_directory, 'image_data_train')\n",
    "validation_directory = os.path.join(base_directory, 'image_data_validation')\n",
    "aug_train_directory = os.path.join(base_directory, 'image_data_train_augmented')\n",
    "bal_validation_directory = os.path.join(base_directory, 'image_data_validation_balanced')"
   ]
  },
  {
   "cell_type": "code",
   "execution_count": 3,
   "metadata": {},
   "outputs": [],
   "source": [
    "#importing pre-trained model\n",
    "from keras.applications import MobileNetV2"
   ]
  },
  {
   "cell_type": "code",
   "execution_count": 5,
   "metadata": {},
   "outputs": [],
   "source": [
    "#assigning model to variable to add to new model\n",
    "#top fully connected layers not included\n",
    "prior = MobileNetV2(include_top =  False, weights = \"imagenet\", input_shape = (150, 150, 3))"
   ]
  },
  {
   "cell_type": "code",
   "execution_count": 6,
   "metadata": {},
   "outputs": [
    {
     "name": "stderr",
     "output_type": "stream",
     "text": [
      "W0825 21:51:11.575375 4574565824 deprecation.py:506] From /Users/mdevlin/anaconda3/envs/deeplearning/lib/python3.7/site-packages/keras/backend/tensorflow_backend.py:3445: calling dropout (from tensorflow.python.ops.nn_ops) with keep_prob is deprecated and will be removed in a future version.\n",
      "Instructions for updating:\n",
      "Please use `rate` instead of `keep_prob`. Rate should be set to `rate = 1 - keep_prob`.\n"
     ]
    }
   ],
   "source": [
    "model = Sequential()\n",
    "\n",
    "model.add(prior)\n",
    "\n",
    "model.add(Flatten())\n",
    "# model.add(Dropout(rate = 0.5))\n",
    "\n",
    "model.add(Dense(512, activation='relu'))\n",
    "model.add(Dropout(rate = 0.5))\n",
    "\n",
    "model.add(Dense(256, activation='relu'))\n",
    "# model.add(Dropout(rate = 0.5))\n",
    "\n",
    "model.add(Dense(128, activation='relu'))\n",
    "model.add(Dropout(rate = 0.5))\n",
    "\n",
    "model.add(Dense(64, activation='relu'))\n",
    "\n",
    "model.add(Dense(7, activation='softmax'))\n",
    "\n",
    "#freeze MobileNet layers so that imagenet weights can be used\n",
    "for layer in model.layers[0].layers:\n",
    "    layer.trainable = False"
   ]
  },
  {
   "cell_type": "code",
   "execution_count": 7,
   "metadata": {},
   "outputs": [
    {
     "name": "stdout",
     "output_type": "stream",
     "text": [
      "_________________________________________________________________\n",
      "Layer (type)                 Output Shape              Param #   \n",
      "=================================================================\n",
      "mobilenetv2_1.00_224 (Model) (None, 5, 5, 1280)        2257984   \n",
      "_________________________________________________________________\n",
      "flatten_1 (Flatten)          (None, 32000)             0         \n",
      "_________________________________________________________________\n",
      "dense_1 (Dense)              (None, 512)               16384512  \n",
      "_________________________________________________________________\n",
      "dropout_1 (Dropout)          (None, 512)               0         \n",
      "_________________________________________________________________\n",
      "dense_2 (Dense)              (None, 256)               131328    \n",
      "_________________________________________________________________\n",
      "dense_3 (Dense)              (None, 128)               32896     \n",
      "_________________________________________________________________\n",
      "dropout_2 (Dropout)          (None, 128)               0         \n",
      "_________________________________________________________________\n",
      "dense_4 (Dense)              (None, 64)                8256      \n",
      "_________________________________________________________________\n",
      "dense_5 (Dense)              (None, 7)                 455       \n",
      "=================================================================\n",
      "Total params: 18,815,431\n",
      "Trainable params: 16,557,447\n",
      "Non-trainable params: 2,257,984\n",
      "_________________________________________________________________\n"
     ]
    }
   ],
   "source": [
    "model.summary()"
   ]
  },
  {
   "cell_type": "code",
   "execution_count": 8,
   "metadata": {},
   "outputs": [
    {
     "name": "stderr",
     "output_type": "stream",
     "text": [
      "W0825 21:51:11.749882 4574565824 deprecation_wrapper.py:119] From /Users/mdevlin/anaconda3/envs/deeplearning/lib/python3.7/site-packages/keras/optimizers.py:790: The name tf.train.Optimizer is deprecated. Please use tf.compat.v1.train.Optimizer instead.\n",
      "\n"
     ]
    }
   ],
   "source": [
    "adam = optimizers.Adam(lr = 0.001)\n",
    "model.compile(loss = 'categorical_crossentropy',\n",
    "              optimizer = adam,\n",
    "              metrics = ['acc'])"
   ]
  },
  {
   "cell_type": "code",
   "execution_count": 13,
   "metadata": {},
   "outputs": [],
   "source": [
    "train_datagen = ImageDataGenerator(rescale = 1./255)\n",
    "val_datagen = ImageDataGenerator(rescale=1./255)"
   ]
  },
  {
   "cell_type": "code",
   "execution_count": 14,
   "metadata": {},
   "outputs": [],
   "source": [
    "#class weights used to give more emphasis to the melanomic classes\n",
    "class_weights = {\n",
    "    0: 1,\n",
    "    1: 1,\n",
    "    2: 2,\n",
    "    3: 1,\n",
    "    4: 1,\n",
    "    5: 1,\n",
    "    6: 2\n",
    "}"
   ]
  },
  {
   "cell_type": "code",
   "execution_count": 17,
   "metadata": {},
   "outputs": [
    {
     "name": "stdout",
     "output_type": "stream",
     "text": [
      "Found 26273 images belonging to 7 classes.\n",
      "Found 196 images belonging to 7 classes.\n"
     ]
    }
   ],
   "source": [
    "#largest target size used for images\n",
    "#increasing batch size made a difference\n",
    "train_generator = train_datagen.flow_from_directory(\n",
    "        aug_train_directory,\n",
    "        target_size=(150, 150), \n",
    "        batch_size= 256,\n",
    "        class_mode='categorical'\n",
    ")\n",
    "\n",
    "validation_generator = val_datagen.flow_from_directory(\n",
    "        bal_validation_directory,\n",
    "        target_size=(150, 150),\n",
    "        batch_size= 256,\n",
    "        class_mode='categorical')"
   ]
  },
  {
   "cell_type": "code",
   "execution_count": 18,
   "metadata": {},
   "outputs": [
    {
     "name": "stdout",
     "output_type": "stream",
     "text": [
      "data batch shape: (256, 150, 150, 3)\n",
      "labels batch shape: (256, 7)\n"
     ]
    }
   ],
   "source": [
    "for data_batch, labels_batch in train_generator:\n",
    "    print('data batch shape:', data_batch.shape)\n",
    "    print('labels batch shape:', labels_batch.shape)\n",
    "    break"
   ]
  },
  {
   "cell_type": "code",
   "execution_count": 19,
   "metadata": {},
   "outputs": [],
   "source": [
    "from keras.callbacks import EarlyStopping, ReduceLROnPlateau\n",
    "\n",
    "callbacks = [EarlyStopping(monitor= \"val_loss\", patience = 5, restore_best_weights= True),\n",
    "             ReduceLROnPlateau(monitor=\"loss\", patience = 2)]\n"
   ]
  },
  {
   "cell_type": "code",
   "execution_count": 20,
   "metadata": {
    "scrolled": true
   },
   "outputs": [
    {
     "name": "stderr",
     "output_type": "stream",
     "text": [
      "W0825 21:53:23.866266 4574565824 deprecation.py:323] From /Users/mdevlin/anaconda3/envs/deeplearning/lib/python3.7/site-packages/tensorflow/python/ops/math_grad.py:1250: add_dispatch_support.<locals>.wrapper (from tensorflow.python.ops.array_ops) is deprecated and will be removed in a future version.\n",
      "Instructions for updating:\n",
      "Use tf.where in 2.0, which has the same broadcast rule as np.where\n"
     ]
    },
    {
     "name": "stdout",
     "output_type": "stream",
     "text": [
      "Epoch 1/20\n",
      "103/103 [==============================] - 1130s 11s/step - loss: 2.4226 - acc: 0.2957 - val_loss: 1.5499 - val_acc: 0.3980\n",
      "Epoch 2/20\n",
      "103/103 [==============================] - 1294s 13s/step - loss: 1.7342 - acc: 0.4923 - val_loss: 1.5453 - val_acc: 0.4694\n",
      "Epoch 3/20\n",
      "103/103 [==============================] - 1324s 13s/step - loss: 1.5029 - acc: 0.5785 - val_loss: 1.5849 - val_acc: 0.4643\n",
      "Epoch 4/20\n",
      "103/103 [==============================] - 1314s 13s/step - loss: 1.3170 - acc: 0.6411 - val_loss: 1.5455 - val_acc: 0.5153\n",
      "Epoch 5/20\n",
      "103/103 [==============================] - 1318s 13s/step - loss: 1.2081 - acc: 0.6767 - val_loss: 1.4874 - val_acc: 0.5255\n",
      "Epoch 6/20\n",
      "103/103 [==============================] - 1328s 13s/step - loss: 1.0800 - acc: 0.7133 - val_loss: 1.8452 - val_acc: 0.5204\n",
      "Epoch 7/20\n",
      "103/103 [==============================] - 1393s 14s/step - loss: 0.9853 - acc: 0.7377 - val_loss: 1.7061 - val_acc: 0.5102\n",
      "Epoch 8/20\n",
      "103/103 [==============================] - 1297s 13s/step - loss: 0.9133 - acc: 0.7570 - val_loss: 1.7542 - val_acc: 0.5357\n",
      "Epoch 9/20\n",
      "103/103 [==============================] - 1304s 13s/step - loss: 0.8471 - acc: 0.7757 - val_loss: 1.7623 - val_acc: 0.5459\n",
      "Epoch 10/20\n",
      "103/103 [==============================] - 1301s 13s/step - loss: 0.7624 - acc: 0.7986 - val_loss: 1.4724 - val_acc: 0.5816\n",
      "Epoch 11/20\n",
      "103/103 [==============================] - 1300s 13s/step - loss: 0.7171 - acc: 0.8087 - val_loss: 1.8409 - val_acc: 0.5459\n",
      "Epoch 12/20\n",
      "103/103 [==============================] - 1319s 13s/step - loss: 0.6654 - acc: 0.8250 - val_loss: 1.6157 - val_acc: 0.5816\n",
      "Epoch 13/20\n",
      "103/103 [==============================] - 1300s 13s/step - loss: 0.6294 - acc: 0.8316 - val_loss: 2.1224 - val_acc: 0.5663\n",
      "Epoch 14/20\n",
      "103/103 [==============================] - 1309s 13s/step - loss: 0.5885 - acc: 0.8452 - val_loss: 1.6915 - val_acc: 0.5816\n",
      "Epoch 15/20\n",
      "103/103 [==============================] - 2261s 22s/step - loss: 0.5461 - acc: 0.8530 - val_loss: 2.0104 - val_acc: 0.5153\n"
     ]
    }
   ],
   "source": [
    "import numpy as np\n",
    "\n",
    "#important to make sure steps are related to the batch size and image count\n",
    "history = model.fit_generator(\n",
    "      train_generator,\n",
    "      steps_per_epoch=np.ceil(26273/256),\n",
    "      epochs=20,\n",
    "      validation_data=validation_generator,\n",
    "      validation_steps= np.ceil(196/256),\n",
    "      callbacks= callbacks,\n",
    "      class_weight= class_weights\n",
    ")"
   ]
  },
  {
   "cell_type": "code",
   "execution_count": 21,
   "metadata": {},
   "outputs": [],
   "source": [
    "model.save(\"model_7.h5\")"
   ]
  },
  {
   "cell_type": "code",
   "execution_count": 22,
   "metadata": {},
   "outputs": [
    {
     "data": {
      "image/png": "[encoded data removed]",
      "text/plain": [
       "<Figure size 432x288 with 1 Axes>"
      ]
     },
     "metadata": {
      "needs_background": "light"
     },
     "output_type": "display_data"
    }
   ],
   "source": [
    "#plot of loss for train and val\n",
    "plt.plot(history.history[\"loss\"], label = \"loss\")\n",
    "plt.plot(history.history[\"val_loss\"], label = \"val_loss\")\n",
    "plt.legend();"
   ]
  },
  {
   "cell_type": "code",
   "execution_count": 23,
   "metadata": {},
   "outputs": [
    {
     "data": {
      "image/png": "[encoded data removed]",
      "text/plain": [
       "<Figure size 432x288 with 1 Axes>"
      ]
     },
     "metadata": {
      "needs_background": "light"
     },
     "output_type": "display_data"
    }
   ],
   "source": [
    "#plot of accuracy for train and val\n",
    "plt.plot(history.history[\"acc\"], label = \"acc\")\n",
    "plt.plot(history.history[\"val_acc\"], label = \"val_acc\")\n",
    "plt.legend();"
   ]
  },
  {
   "cell_type": "markdown",
   "metadata": {},
   "source": [
    "## Summary:\n",
    "\n",
    "This is the best that a model has performed so far with the balanced validation data. There is clear overfitting and I am not sure why the model is not learning past a certain point. Slowing the learning rate down seems only to have helped the training data, not the testing data. After reading about batch size influence, manipulating the batch size to be larger than 32 definitely increased accuracy. In the future, I would like to use a platform like AWS to run my more time consuming models so that I can use a larger input image and run more tests. "
   ]
  }
 ],
 "metadata": {
  "kernelspec": {
   "display_name": "Python 3",
   "language": "python",
   "name": "python3"
  },
  "language_info": {
   "codemirror_mode": {
    "name": "ipython",
    "version": 3
   },
   "file_extension": ".py",
   "mimetype": "text/x-python",
   "name": "python",
   "nbconvert_exporter": "python",
   "pygments_lexer": "ipython3",
   "version": "3.7.3"
  }
 },
 "nbformat": 4,
 "nbformat_minor": 2
}
