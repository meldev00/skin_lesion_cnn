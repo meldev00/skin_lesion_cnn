{
 "cells": [
  {
   "cell_type": "markdown",
   "metadata": {},
   "source": [
    "## Model 6:\n",
    " - 150 x 150 x 3\n",
    " - mini_batch size = 256\n",
    " - 20 epochs\n",
    " - pretrained layers with mobile net v2\n",
    " - +6 top layers"
   ]
  },
  {
   "cell_type": "code",
   "execution_count": 1,
   "metadata": {},
   "outputs": [
    {
     "name": "stderr",
     "output_type": "stream",
     "text": [
      "Using TensorFlow backend.\n"
     ]
    }
   ],
   "source": [
    "from keras.layers import Dense, Conv2D, MaxPooling2D, Flatten, Dropout\n",
    "from keras.models import Sequential\n",
    "from keras import optimizers\n",
    "from keras.preprocessing.image import ImageDataGenerator\n",
    "\n",
    "import matplotlib.pyplot as plt\n",
    "\n",
    "import os\n",
    "from os import listdir\n",
    "os.environ['KMP_DUPLICATE_LIB_OK']='True'\n",
    "import warnings\n",
    "warnings.filterwarnings(\"ignore\")"
   ]
  },
  {
   "cell_type": "code",
   "execution_count": 15,
   "metadata": {},
   "outputs": [],
   "source": [
    "base_directory = \"../skin-cancer-mnist-ham10000\"\n",
    "\n",
    "test_directory = os.path.join(base_directory, 'image_data_test')\n",
    "train_directory = os.path.join(base_directory, 'image_data_train')\n",
    "validation_directory = os.path.join(base_directory, 'image_data_validation')\n",
    "bal_validation_directory = os.path.join(base_directory, 'image_data_validation_balanced')"
   ]
  },
  {
   "cell_type": "code",
   "execution_count": 3,
   "metadata": {},
   "outputs": [],
   "source": [
    "from keras.applications import MobileNetV2"
   ]
  },
  {
   "cell_type": "code",
   "execution_count": 5,
   "metadata": {},
   "outputs": [],
   "source": [
    "prior = MobileNetV2(include_top =  False, weights = \"imagenet\", input_shape = (150, 150, 3))"
   ]
  },
  {
   "cell_type": "code",
   "execution_count": 6,
   "metadata": {},
   "outputs": [
    {
     "name": "stderr",
     "output_type": "stream",
     "text": [
      "W0825 15:16:54.026515 4417967552 deprecation.py:506] From /Users/mdevlin/anaconda3/envs/deeplearning/lib/python3.7/site-packages/keras/backend/tensorflow_backend.py:3445: calling dropout (from tensorflow.python.ops.nn_ops) with keep_prob is deprecated and will be removed in a future version.\n",
      "Instructions for updating:\n",
      "Please use `rate` instead of `keep_prob`. Rate should be set to `rate = 1 - keep_prob`.\n"
     ]
    }
   ],
   "source": [
    "model = Sequential()\n",
    "\n",
    "model.add(prior)\n",
    "\n",
    "model.add(Flatten())\n",
    "# model.add(Dropout(rate = 0.5))\n",
    "\n",
    "model.add(Dense(512, activation='relu'))\n",
    "model.add(Dropout(rate = 0.5))\n",
    "\n",
    "model.add(Dense(256, activation='relu'))\n",
    "# model.add(Dropout(rate = 0.5))\n",
    "\n",
    "model.add(Dense(128, activation='relu'))\n",
    "model.add(Dropout(rate = 0.5))\n",
    "\n",
    "model.add(Dense(64, activation='relu'))\n",
    "\n",
    "model.add(Dense(7, activation='softmax'))\n",
    "\n",
    "for layer in model.layers[0].layers:\n",
    "    layer.trainable = False"
   ]
  },
  {
   "cell_type": "code",
   "execution_count": 10,
   "metadata": {},
   "outputs": [
    {
     "name": "stdout",
     "output_type": "stream",
     "text": [
      "_________________________________________________________________\n",
      "Layer (type)                 Output Shape              Param #   \n",
      "=================================================================\n",
      "mobilenetv2_1.00_224 (Model) (None, 5, 5, 1280)        2257984   \n",
      "_________________________________________________________________\n",
      "flatten_1 (Flatten)          (None, 32000)             0         \n",
      "_________________________________________________________________\n",
      "dense_1 (Dense)              (None, 512)               16384512  \n",
      "_________________________________________________________________\n",
      "dropout_1 (Dropout)          (None, 512)               0         \n",
      "_________________________________________________________________\n",
      "dense_2 (Dense)              (None, 256)               131328    \n",
      "_________________________________________________________________\n",
      "dense_3 (Dense)              (None, 128)               32896     \n",
      "_________________________________________________________________\n",
      "dropout_2 (Dropout)          (None, 128)               0         \n",
      "_________________________________________________________________\n",
      "dense_4 (Dense)              (None, 64)                8256      \n",
      "_________________________________________________________________\n",
      "dense_5 (Dense)              (None, 7)                 455       \n",
      "=================================================================\n",
      "Total params: 18,815,431\n",
      "Trainable params: 16,557,447\n",
      "Non-trainable params: 2,257,984\n",
      "_________________________________________________________________\n"
     ]
    }
   ],
   "source": [
    "model.summary()"
   ]
  },
  {
   "cell_type": "code",
   "execution_count": 11,
   "metadata": {},
   "outputs": [
    {
     "name": "stderr",
     "output_type": "stream",
     "text": [
      "W0825 15:17:43.253156 4417967552 deprecation_wrapper.py:119] From /Users/mdevlin/anaconda3/envs/deeplearning/lib/python3.7/site-packages/keras/optimizers.py:790: The name tf.train.Optimizer is deprecated. Please use tf.compat.v1.train.Optimizer instead.\n",
      "\n"
     ]
    }
   ],
   "source": [
    "adam = optimizers.Adam(lr = 0.001)\n",
    "model.compile(loss = 'categorical_crossentropy',\n",
    "              optimizer = adam,\n",
    "              metrics = ['acc'])"
   ]
  },
  {
   "cell_type": "code",
   "execution_count": 12,
   "metadata": {},
   "outputs": [],
   "source": [
    "train_datagen = ImageDataGenerator(rescale = 1./255,\n",
    "                                   rotation_range= 90,\n",
    "                                   width_shift_range= 0.2,\n",
    "                                   height_shift_range= 0.2,\n",
    "                                   shear_range= 0.2,\n",
    "                                   horizontal_flip= True,\n",
    "                                   vertical_flip= True)\n",
    "val_datagen = ImageDataGenerator(rescale=1./255)"
   ]
  },
  {
   "cell_type": "code",
   "execution_count": 16,
   "metadata": {},
   "outputs": [
    {
     "name": "stdout",
     "output_type": "stream",
     "text": [
      "Found 5008 images belonging to 7 classes.\n",
      "Found 196 images belonging to 7 classes.\n"
     ]
    }
   ],
   "source": [
    "train_generator = train_datagen.flow_from_directory(\n",
    "        train_directory,\n",
    "        target_size=(150, 150), \n",
    "        batch_size= 256,\n",
    "        class_mode='categorical')\n",
    "\n",
    "validation_generator = val_datagen.flow_from_directory(\n",
    "        bal_validation_directory,\n",
    "        target_size=(150, 150),\n",
    "        batch_size= 256,\n",
    "        class_mode='categorical')"
   ]
  },
  {
   "cell_type": "code",
   "execution_count": 17,
   "metadata": {},
   "outputs": [
    {
     "name": "stdout",
     "output_type": "stream",
     "text": [
      "data batch shape: (256, 150, 150, 3)\n",
      "labels batch shape: (256, 7)\n"
     ]
    }
   ],
   "source": [
    "for data_batch, labels_batch in train_generator:\n",
    "    print('data batch shape:', data_batch.shape)\n",
    "    print('labels batch shape:', labels_batch.shape)\n",
    "    break"
   ]
  },
  {
   "cell_type": "code",
   "execution_count": 18,
   "metadata": {},
   "outputs": [],
   "source": [
    "from keras.callbacks import EarlyStopping, ReduceLROnPlateau\n",
    "\n",
    "callbacks = [EarlyStopping(monitor= \"val_loss\", patience = 5, restore_best_weights= True),\n",
    "             ReduceLROnPlateau(monitor=\"loss\", patience = 2)]\n"
   ]
  },
  {
   "cell_type": "code",
   "execution_count": 19,
   "metadata": {},
   "outputs": [],
   "source": [
    "class_weights = {\n",
    "    0: 20.4,\n",
    "    1: 13,\n",
    "    2: 6.1,\n",
    "    3: 57.8,\n",
    "    4: 1,\n",
    "    5: 47.2,\n",
    "    6: 6\n",
    "}"
   ]
  },
  {
   "cell_type": "code",
   "execution_count": 21,
   "metadata": {
    "scrolled": true
   },
   "outputs": [
    {
     "name": "stderr",
     "output_type": "stream",
     "text": [
      "W0825 15:28:26.196153 4417967552 deprecation.py:323] From /Users/mdevlin/anaconda3/envs/deeplearning/lib/python3.7/site-packages/tensorflow/python/ops/math_grad.py:1250: add_dispatch_support.<locals>.wrapper (from tensorflow.python.ops.array_ops) is deprecated and will be removed in a future version.\n",
      "Instructions for updating:\n",
      "Use tf.where in 2.0, which has the same broadcast rule as np.where\n"
     ]
    },
    {
     "name": "stdout",
     "output_type": "stream",
     "text": [
      "Epoch 1/20\n",
      "20/20 [==============================] - 347s 17s/step - loss: 14.7681 - acc: 0.1647 - val_loss: 1.9628 - val_acc: 0.2041\n",
      "Epoch 2/20\n",
      "20/20 [==============================] - 330s 17s/step - loss: 9.7860 - acc: 0.1898 - val_loss: 1.8606 - val_acc: 0.2296\n",
      "Epoch 3/20\n",
      "20/20 [==============================] - 231s 12s/step - loss: 9.2264 - acc: 0.2285 - val_loss: 1.7917 - val_acc: 0.3214\n",
      "Epoch 4/20\n",
      "20/20 [==============================] - 218s 11s/step - loss: 8.6896 - acc: 0.2658 - val_loss: 1.7285 - val_acc: 0.3010\n",
      "Epoch 5/20\n",
      "20/20 [==============================] - 242s 12s/step - loss: 8.5361 - acc: 0.2478 - val_loss: 1.7287 - val_acc: 0.3061\n",
      "Epoch 6/20\n",
      "20/20 [==============================] - 217s 11s/step - loss: 8.4332 - acc: 0.3252 - val_loss: 1.6344 - val_acc: 0.3520\n",
      "Epoch 7/20\n",
      "20/20 [==============================] - 236s 12s/step - loss: 7.9845 - acc: 0.3324 - val_loss: 1.5684 - val_acc: 0.3827\n",
      "Epoch 8/20\n",
      "20/20 [==============================] - 222s 11s/step - loss: 7.7681 - acc: 0.3380 - val_loss: 1.5488 - val_acc: 0.4490\n",
      "Epoch 9/20\n",
      "20/20 [==============================] - 220s 11s/step - loss: 7.8078 - acc: 0.3202 - val_loss: 1.5507 - val_acc: 0.4082\n",
      "Epoch 10/20\n",
      "20/20 [==============================] - 204s 10s/step - loss: 7.7363 - acc: 0.3629 - val_loss: 1.5362 - val_acc: 0.4031\n",
      "Epoch 11/20\n",
      "20/20 [==============================] - 218s 11s/step - loss: 7.2991 - acc: 0.3744 - val_loss: 1.4887 - val_acc: 0.3929\n",
      "Epoch 12/20\n",
      "20/20 [==============================] - 220s 11s/step - loss: 7.6216 - acc: 0.3853 - val_loss: 1.5130 - val_acc: 0.4541\n",
      "Epoch 13/20\n",
      "20/20 [==============================] - 218s 11s/step - loss: 7.3912 - acc: 0.3094 - val_loss: 1.5423 - val_acc: 0.4031\n",
      "Epoch 14/20\n",
      "20/20 [==============================] - 237s 12s/step - loss: 6.9294 - acc: 0.3938 - val_loss: 1.5139 - val_acc: 0.4082\n",
      "Epoch 15/20\n",
      "20/20 [==============================] - 228s 11s/step - loss: 7.0911 - acc: 0.3701 - val_loss: 1.5003 - val_acc: 0.4337\n",
      "Epoch 16/20\n",
      "20/20 [==============================] - 216s 11s/step - loss: 6.9952 - acc: 0.3641 - val_loss: 1.4869 - val_acc: 0.4286\n",
      "Epoch 17/20\n",
      "20/20 [==============================] - 201s 10s/step - loss: 6.8201 - acc: 0.3754 - val_loss: 1.4742 - val_acc: 0.4286\n",
      "Epoch 18/20\n",
      "20/20 [==============================] - 202s 10s/step - loss: 6.9526 - acc: 0.3997 - val_loss: 1.4589 - val_acc: 0.4439\n",
      "Epoch 19/20\n",
      "20/20 [==============================] - 201s 10s/step - loss: 7.0092 - acc: 0.4092 - val_loss: 1.4531 - val_acc: 0.4337\n",
      "Epoch 20/20\n",
      "20/20 [==============================] - 200s 10s/step - loss: 6.7370 - acc: 0.4186 - val_loss: 1.4505 - val_acc: 0.4286\n"
     ]
    }
   ],
   "source": [
    "import numpy as np\n",
    "\n",
    "history = model.fit_generator(\n",
    "      train_generator,\n",
    "      steps_per_epoch=np.ceil(5007/256),\n",
    "      epochs=20,\n",
    "      validation_data=validation_generator,\n",
    "      validation_steps= np.ceil(196/256),\n",
    "      callbacks= callbacks,\n",
    "      class_weight= class_weights\n",
    ")"
   ]
  },
  {
   "cell_type": "code",
   "execution_count": 22,
   "metadata": {},
   "outputs": [],
   "source": [
    "model.save(\"model_6.h5\")"
   ]
  },
  {
   "cell_type": "code",
   "execution_count": 23,
   "metadata": {},
   "outputs": [
    {
     "data": {
      "image/png": "[encoded data removed]",
      "text/plain": [
       "<Figure size 432x288 with 1 Axes>"
      ]
     },
     "metadata": {
      "needs_background": "light"
     },
     "output_type": "display_data"
    }
   ],
   "source": [
    "plt.plot(history.history[\"loss\"], label = \"loss\")\n",
    "plt.plot(history.history[\"val_loss\"], label = \"val_loss\")\n",
    "plt.legend();"
   ]
  },
  {
   "cell_type": "code",
   "execution_count": 24,
   "metadata": {},
   "outputs": [
    {
     "data": {
      "image/png": "[encoded data removed]",
      "text/plain": [
       "<Figure size 432x288 with 1 Axes>"
      ]
     },
     "metadata": {
      "needs_background": "light"
     },
     "output_type": "display_data"
    }
   ],
   "source": [
    "plt.plot(history.history[\"acc\"], label = \"acc\")\n",
    "plt.plot(history.history[\"val_acc\"], label = \"val_acc\")\n",
    "plt.legend();"
   ]
  },
  {
   "cell_type": "code",
   "execution_count": null,
   "metadata": {},
   "outputs": [],
   "source": []
  }
 ],
 "metadata": {
  "kernelspec": {
   "display_name": "Python 3",
   "language": "python",
   "name": "python3"
  },
  "language_info": {
   "codemirror_mode": {
    "name": "ipython",
    "version": 3
   },
   "file_extension": ".py",
   "mimetype": "text/x-python",
   "name": "python",
   "nbconvert_exporter": "python",
   "pygments_lexer": "ipython3",
   "version": "3.7.3"
  }
 },
 "nbformat": 4,
 "nbformat_minor": 2
}
