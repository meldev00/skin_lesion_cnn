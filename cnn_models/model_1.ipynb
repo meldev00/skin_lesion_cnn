{
 "cells": [
  {
   "cell_type": "markdown",
   "metadata": {},
   "source": [
    "## Model 1: Best performing model\n",
    " - 56 x 75 x 3\n",
    " - mini_batch size = 256\n",
    " - 20 epochs\n",
    " - 16 layers"
   ]
  },
  {
   "cell_type": "code",
   "execution_count": 2,
   "metadata": {},
   "outputs": [
    {
     "name": "stderr",
     "output_type": "stream",
     "text": [
      "Using TensorFlow backend.\n"
     ]
    }
   ],
   "source": [
    "import keras\n",
    "import tensorflow as tf\n",
    "import PIL\n",
    "import os, shutil\n",
    "import numpy as np\n",
    "\n",
    "from keras.layers import Dense, Conv2D, MaxPooling2D, Flatten, Dropout\n",
    "from keras.models import Sequential\n",
    "from keras import optimizers\n",
    "from keras.preprocessing.image import ImageDataGenerator\n",
    "\n",
    "import matplotlib.pyplot as plt\n",
    "\n",
    "import os\n",
    "from os import listdir\n",
    "os.environ['KMP_DUPLICATE_LIB_OK']='True'\n",
    "import warnings\n",
    "warnings.filterwarnings(\"ignore\")"
   ]
  },
  {
   "cell_type": "markdown",
   "metadata": {},
   "source": [
    "> Below is the code to call the training and validation data from their respective directories. "
   ]
  },
  {
   "cell_type": "code",
   "execution_count": 7,
   "metadata": {},
   "outputs": [],
   "source": [
    "base_directory = \"../skin-cancer-mnist-ham10000\"\n",
    "\n",
    "train_directory = os.path.join(base_directory, 'image_data_train')\n",
    "validation_directory = os.path.join(base_directory, 'image_data_validation')\n",
    "aug_train_directory = os.path.join(base_directory, 'image_data_train_augmented')\n",
    "\n",
    "aug_train_type0 = os.path.join(aug_train_directory, 'type_0')\n",
    "aug_train_type1 = os.path.join(aug_train_directory, 'type_1')\n",
    "aug_train_type2 = os.path.join(aug_train_directory, 'type_2')\n",
    "aug_train_type3 = os.path.join(aug_train_directory, 'type_3')\n",
    "aug_train_type4 = os.path.join(aug_train_directory, 'type_4')\n",
    "aug_train_type5 = os.path.join(aug_train_directory, 'type_5')\n",
    "aug_train_type6 = os.path.join(aug_train_directory, 'type_6')\n",
    "\n",
    "\n",
    "val_type0 = os.path.join(validation_directory, 'type_0')\n",
    "val_type1 = os.path.join(validation_directory, 'type_1')\n",
    "val_type2 = os.path.join(validation_directory, 'type_2')\n",
    "val_type3 = os.path.join(validation_directory, 'type_3')\n",
    "val_type4 = os.path.join(validation_directory, 'type_4')\n",
    "val_type5 = os.path.join(validation_directory, 'type_5')\n",
    "val_type6 = os.path.join(validation_directory, 'type_6')"
   ]
  },
  {
   "cell_type": "code",
   "execution_count": 8,
   "metadata": {},
   "outputs": [
    {
     "name": "stdout",
     "output_type": "stream",
     "text": [
      "../skin-cancer-mnist-ham10000/image_data_train_augmented/type_0: 3575\n",
      "../skin-cancer-mnist-ham10000/image_data_train_augmented/type_1: 3804\n",
      "../skin-cancer-mnist-ham10000/image_data_train_augmented/type_2: 4298\n",
      "../skin-cancer-mnist-ham10000/image_data_train_augmented/type_3: 3419\n",
      "../skin-cancer-mnist-ham10000/image_data_train_augmented/type_4: 3352\n",
      "../skin-cancer-mnist-ham10000/image_data_train_augmented/type_5: 3471\n",
      "../skin-cancer-mnist-ham10000/image_data_train_augmented/type_6: 4354\n"
     ]
    }
   ],
   "source": [
    "for i in [aug_train_type0,aug_train_type1,aug_train_type2,aug_train_type3,aug_train_type4,aug_train_type5,aug_train_type6]:\n",
    "    print(f\"{i}: {len(listdir(i))}\")\n",
    "\n",
    "#the total number of augmented images for each class in the training set"
   ]
  },
  {
   "cell_type": "markdown",
   "metadata": {},
   "source": [
    "> Below is the instantiation and building of a sequential CNN made of 16 layers. Dropout is included to reduce overfitting. Padding was changed to same to try to improve accuracy for pictures that may have details near the edge of the image."
   ]
  },
  {
   "cell_type": "code",
   "execution_count": 10,
   "metadata": {},
   "outputs": [],
   "source": [
    "model = Sequential()\n",
    "\n",
    "model.add(Conv2D(64, (3, 3), activation='relu', padding = \"same\", input_shape=(56, 75, 3)))\n",
    "model.add(Conv2D(64, (3, 3), activation='relu', padding = \"same\", input_shape=(56, 75, 3)))\n",
    "model.add(MaxPooling2D((2, 2)))\n",
    "\n",
    "model.add(Conv2D(32, (3, 3), activation='relu', padding = \"same\"))\n",
    "model.add(Conv2D(32, (3, 3), activation='relu', padding = \"same\"))\n",
    "model.add(MaxPooling2D((2, 2)))\n",
    "\n",
    "model.add(Conv2D(32, (3, 3), activation='relu', padding = \"same\"))\n",
    "model.add(Conv2D(32, (3, 3), activation='relu', padding = \"same\"))\n",
    "model.add(MaxPooling2D((2, 2)))\n",
    "\n",
    "model.add(Flatten())\n",
    "# model.add(Dropout(rate = 0.5))\n",
    "\n",
    "model.add(Dense(512, activation='relu'))\n",
    "model.add(Dropout(rate = 0.5))\n",
    "\n",
    "model.add(Dense(256, activation='relu'))\n",
    "# model.add(Dropout(rate = 0.5))\n",
    "\n",
    "model.add(Dense(128, activation='relu'))\n",
    "model.add(Dropout(rate = 0.5))\n",
    "\n",
    "model.add(Dense(128, activation='relu'))\n",
    "model.add(Dropout(rate = 0.5))\n",
    "\n",
    "model.add(Dense(64, activation='relu'))\n",
    "\n",
    "model.add(Dense(7, activation='softmax'))"
   ]
  },
  {
   "cell_type": "code",
   "execution_count": 11,
   "metadata": {},
   "outputs": [
    {
     "name": "stdout",
     "output_type": "stream",
     "text": [
      "_________________________________________________________________\n",
      "Layer (type)                 Output Shape              Param #   \n",
      "=================================================================\n",
      "conv2d_7 (Conv2D)            (None, 56, 75, 64)        1792      \n",
      "_________________________________________________________________\n",
      "conv2d_8 (Conv2D)            (None, 56, 75, 64)        36928     \n",
      "_________________________________________________________________\n",
      "max_pooling2d_4 (MaxPooling2 (None, 28, 37, 64)        0         \n",
      "_________________________________________________________________\n",
      "conv2d_9 (Conv2D)            (None, 28, 37, 32)        18464     \n",
      "_________________________________________________________________\n",
      "conv2d_10 (Conv2D)           (None, 28, 37, 32)        9248      \n",
      "_________________________________________________________________\n",
      "max_pooling2d_5 (MaxPooling2 (None, 14, 18, 32)        0         \n",
      "_________________________________________________________________\n",
      "conv2d_11 (Conv2D)           (None, 14, 18, 32)        9248      \n",
      "_________________________________________________________________\n",
      "conv2d_12 (Conv2D)           (None, 14, 18, 32)        9248      \n",
      "_________________________________________________________________\n",
      "max_pooling2d_6 (MaxPooling2 (None, 7, 9, 32)          0         \n",
      "_________________________________________________________________\n",
      "flatten_2 (Flatten)          (None, 2016)              0         \n",
      "_________________________________________________________________\n",
      "dense_7 (Dense)              (None, 512)               1032704   \n",
      "_________________________________________________________________\n",
      "dropout_4 (Dropout)          (None, 512)               0         \n",
      "_________________________________________________________________\n",
      "dense_8 (Dense)              (None, 256)               131328    \n",
      "_________________________________________________________________\n",
      "dense_9 (Dense)              (None, 128)               32896     \n",
      "_________________________________________________________________\n",
      "dropout_5 (Dropout)          (None, 128)               0         \n",
      "_________________________________________________________________\n",
      "dense_10 (Dense)             (None, 128)               16512     \n",
      "_________________________________________________________________\n",
      "dropout_6 (Dropout)          (None, 128)               0         \n",
      "_________________________________________________________________\n",
      "dense_11 (Dense)             (None, 64)                8256      \n",
      "_________________________________________________________________\n",
      "dense_12 (Dense)             (None, 7)                 455       \n",
      "=================================================================\n",
      "Total params: 1,307,079\n",
      "Trainable params: 1,307,079\n",
      "Non-trainable params: 0\n",
      "_________________________________________________________________\n"
     ]
    }
   ],
   "source": [
    "model.summary()"
   ]
  },
  {
   "cell_type": "markdown",
   "metadata": {},
   "source": [
    "> Below is the model compiled. The default learning rate is being used currently because I implemented the ReduceLROnPlateau method in the actual fitting of the model."
   ]
  },
  {
   "cell_type": "code",
   "execution_count": 11,
   "metadata": {},
   "outputs": [
    {
     "name": "stderr",
     "output_type": "stream",
     "text": [
      "W0823 16:30:35.583678 4704986560 deprecation_wrapper.py:119] From /Users/mdevlin/anaconda3/envs/deeplearning/lib/python3.7/site-packages/keras/optimizers.py:790: The name tf.train.Optimizer is deprecated. Please use tf.compat.v1.train.Optimizer instead.\n",
      "\n",
      "W0823 16:30:35.596829 4704986560 deprecation_wrapper.py:119] From /Users/mdevlin/anaconda3/envs/deeplearning/lib/python3.7/site-packages/keras/backend/tensorflow_backend.py:3295: The name tf.log is deprecated. Please use tf.math.log instead.\n",
      "\n"
     ]
    }
   ],
   "source": [
    "adam = optimizers.Adam(lr = 0.001)\n",
    "model.compile(loss = 'categorical_crossentropy',\n",
    "              optimizer = adam,\n",
    "              metrics = ['acc'])"
   ]
  },
  {
   "cell_type": "code",
   "execution_count": 12,
   "metadata": {},
   "outputs": [],
   "source": [
    "train_datagen = ImageDataGenerator(rescale = 1./255)\n",
    "val_datagen = ImageDataGenerator(rescale=1./255)"
   ]
  },
  {
   "cell_type": "markdown",
   "metadata": {},
   "source": [
    "> Initially the batch size was set at the default 32, but after reading several articles on the effect of batch size, I increased it to 256 with good results."
   ]
  },
  {
   "cell_type": "code",
   "execution_count": 13,
   "metadata": {},
   "outputs": [
    {
     "name": "stdout",
     "output_type": "stream",
     "text": [
      "Found 26273 images belonging to 7 classes.\n",
      "Found 2502 images belonging to 7 classes.\n"
     ]
    }
   ],
   "source": [
    "train_generator = train_datagen.flow_from_directory(\n",
    "        aug_train_directory,\n",
    "        target_size=(56, 75), \n",
    "        batch_size= 256,\n",
    "        class_mode='categorical' \n",
    ")\n",
    "\n",
    "validation_generator = val_datagen.flow_from_directory(\n",
    "        validation_directory,\n",
    "        target_size=(56, 75),\n",
    "        batch_size= 256,\n",
    "        class_mode='categorical')"
   ]
  },
  {
   "cell_type": "code",
   "execution_count": 14,
   "metadata": {},
   "outputs": [
    {
     "name": "stdout",
     "output_type": "stream",
     "text": [
      "data batch shape: (256, 56, 75, 3)\n",
      "labels batch shape: (256, 7)\n"
     ]
    }
   ],
   "source": [
    "for data_batch, labels_batch in train_generator:\n",
    "    print('data batch shape:', data_batch.shape)\n",
    "    print('labels batch shape:', labels_batch.shape)\n",
    "    break"
   ]
  },
  {
   "cell_type": "code",
   "execution_count": 15,
   "metadata": {},
   "outputs": [],
   "source": [
    "from keras.callbacks import EarlyStopping, ReduceLROnPlateau\n",
    "\n",
    "callbacks = [EarlyStopping(monitor= \"val_loss\", patience = 5, restore_best_weights= True),\n",
    "             ReduceLROnPlateau(monitor=\"loss\", patience = 2)]\n"
   ]
  },
  {
   "cell_type": "markdown",
   "metadata": {},
   "source": [
    "> Callbacks used are EarlyStopping and ReduceLROnPlateau. EarlyStopping ends the model when the val_loss has increased 5 epochs in a row and ReduceLROnPlateau lowers to the learning rate after two epochs where the training loss has not dropped."
   ]
  },
  {
   "cell_type": "markdown",
   "metadata": {},
   "source": [
    "> It was important that the steps per epoch be related to the batch size so that the model could see all of the data each epoch. It helped with the accuracy of the model. "
   ]
  },
  {
   "cell_type": "code",
   "execution_count": 17,
   "metadata": {
    "scrolled": true
   },
   "outputs": [
    {
     "name": "stderr",
     "output_type": "stream",
     "text": [
      "W0823 16:35:45.201938 4704986560 deprecation.py:323] From /Users/mdevlin/anaconda3/envs/deeplearning/lib/python3.7/site-packages/tensorflow/python/ops/math_grad.py:1250: add_dispatch_support.<locals>.wrapper (from tensorflow.python.ops.array_ops) is deprecated and will be removed in a future version.\n",
      "Instructions for updating:\n",
      "Use tf.where in 2.0, which has the same broadcast rule as np.where\n"
     ]
    },
    {
     "name": "stdout",
     "output_type": "stream",
     "text": [
      "Epoch 1/20\n",
      "103/103 [==============================] - 399s 4s/step - loss: 1.9316 - acc: 0.1652 - val_loss: 1.9012 - val_acc: 0.4984\n",
      "Epoch 2/20\n",
      "103/103 [==============================] - 394s 4s/step - loss: 1.8422 - acc: 0.2217 - val_loss: 1.4638 - val_acc: 0.5643\n",
      "Epoch 3/20\n",
      "103/103 [==============================] - 403s 4s/step - loss: 1.6140 - acc: 0.3098 - val_loss: 1.5403 - val_acc: 0.5028\n",
      "Epoch 4/20\n",
      "103/103 [==============================] - 397s 4s/step - loss: 1.4323 - acc: 0.4025 - val_loss: 1.7180 - val_acc: 0.3921\n",
      "Epoch 5/20\n",
      "103/103 [==============================] - 366s 4s/step - loss: 1.3118 - acc: 0.4508 - val_loss: 1.2841 - val_acc: 0.5496\n",
      "Epoch 6/20\n",
      "103/103 [==============================] - 368s 4s/step - loss: 1.2218 - acc: 0.4906 - val_loss: 1.0845 - val_acc: 0.6011\n",
      "Epoch 7/20\n",
      "103/103 [==============================] - 514s 5s/step - loss: 1.1502 - acc: 0.5203 - val_loss: 0.9791 - val_acc: 0.5991\n",
      "Epoch 8/20\n",
      "103/103 [==============================] - 509s 5s/step - loss: 1.0931 - acc: 0.5516 - val_loss: 0.9683 - val_acc: 0.6703\n",
      "Epoch 9/20\n",
      "103/103 [==============================] - 533s 5s/step - loss: 1.0384 - acc: 0.5811 - val_loss: 0.9119 - val_acc: 0.6587\n",
      "Epoch 10/20\n",
      "103/103 [==============================] - 500s 5s/step - loss: 1.0168 - acc: 0.5928 - val_loss: 0.8764 - val_acc: 0.6839\n",
      "Epoch 11/20\n",
      "103/103 [==============================] - 370s 4s/step - loss: 0.9597 - acc: 0.6153 - val_loss: 0.9199 - val_acc: 0.6779\n",
      "Epoch 12/20\n",
      "103/103 [==============================] - 366s 4s/step - loss: 0.9146 - acc: 0.6423 - val_loss: 0.8402 - val_acc: 0.6914\n",
      "Epoch 13/20\n",
      "103/103 [==============================] - 399s 4s/step - loss: 0.8684 - acc: 0.6656 - val_loss: 0.9451 - val_acc: 0.6843\n",
      "Epoch 14/20\n",
      "103/103 [==============================] - 415s 4s/step - loss: 0.8211 - acc: 0.6890 - val_loss: 0.9089 - val_acc: 0.7010\n",
      "Epoch 15/20\n",
      "103/103 [==============================] - 386s 4s/step - loss: 0.7797 - acc: 0.7085 - val_loss: 0.8896 - val_acc: 0.7050\n",
      "Epoch 16/20\n",
      "103/103 [==============================] - 376s 4s/step - loss: 0.7383 - acc: 0.7253 - val_loss: 0.8828 - val_acc: 0.7126\n",
      "Epoch 17/20\n",
      "103/103 [==============================] - 400s 4s/step - loss: 0.6917 - acc: 0.7436 - val_loss: 0.8433 - val_acc: 0.7070\n"
     ]
    }
   ],
   "source": [
    "history = model.fit_generator(\n",
    "      train_generator,\n",
    "      steps_per_epoch=np.ceil(26273/256),\n",
    "      epochs=20,\n",
    "      validation_data=validation_generator,\n",
    "      validation_steps= np.ceil(2502/256),\n",
    "      callbacks= callbacks,\n",
    ")"
   ]
  },
  {
   "cell_type": "code",
   "execution_count": 21,
   "metadata": {},
   "outputs": [],
   "source": [
    "model.save(\"model_1.h5\")"
   ]
  },
  {
   "cell_type": "code",
   "execution_count": 19,
   "metadata": {},
   "outputs": [
    {
     "data": {
      "image/png": "[encoded data removed]",
      "text/plain": [
       "<Figure size 432x288 with 1 Axes>"
      ]
     },
     "metadata": {
      "needs_background": "light"
     },
     "output_type": "display_data"
    }
   ],
   "source": [
    "plt.plot(history.history[\"loss\"], label = \"loss\")\n",
    "plt.plot(history.history[\"val_loss\"], label = \"val_loss\")\n",
    "plt.legend()\n",
    "#Graph of Loss "
   ]
  },
  {
   "cell_type": "code",
   "execution_count": 20,
   "metadata": {},
   "outputs": [
    {
     "data": {
      "image/png": "[encoded data removed]",
      "text/plain": [
       "<Figure size 432x288 with 1 Axes>"
      ]
     },
     "metadata": {
      "needs_background": "light"
     },
     "output_type": "display_data"
    }
   ],
   "source": [
    "plt.plot(history.history[\"acc\"], label = \"acc\")\n",
    "plt.plot(history.history[\"val_acc\"], label = \"val_acc\")\n",
    "plt.legend();\n",
    "#Graph of Accuracy"
   ]
  },
  {
   "cell_type": "markdown",
   "metadata": {},
   "source": [
    "## Summary:\n",
    "\n",
    "This model returned the highest training and validation accuracy. While the test accuracy did not reflect the validation accuracy, it was higher than any other model in this study. Two improvements that were made to the model were an increase in mini-batch size from 32 to 256 and a change to the number of steps within an epoch that was directly related to the mini-batch size. "
   ]
  },
  {
   "cell_type": "code",
   "execution_count": null,
   "metadata": {},
   "outputs": [],
   "source": []
  }
 ],
 "metadata": {
  "kernelspec": {
   "display_name": "Python 3",
   "language": "python",
   "name": "python3"
  },
  "language_info": {
   "codemirror_mode": {
    "name": "ipython",
    "version": 3
   },
   "file_extension": ".py",
   "mimetype": "text/x-python",
   "name": "python",
   "nbconvert_exporter": "python",
   "pygments_lexer": "ipython3",
   "version": "3.7.3"
  }
 },
 "nbformat": 4,
 "nbformat_minor": 2
}
