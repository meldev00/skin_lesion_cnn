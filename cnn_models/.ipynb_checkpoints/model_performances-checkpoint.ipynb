{
 "cells": [
  {
   "cell_type": "markdown",
   "metadata": {},
   "source": [
    "> This notebook is used to evaluate the performance of each model with the test data and then highlight the best one. "
   ]
  },
  {
   "cell_type": "code",
   "execution_count": 3,
   "metadata": {},
   "outputs": [
    {
     "name": "stderr",
     "output_type": "stream",
     "text": [
      "Using TensorFlow backend.\n"
     ]
    }
   ],
   "source": [
    "import pandas as pd\n",
    "import numpy as np\n",
    "import matplotlib.pyplot as plt\n",
    "\n",
    "from keras.models import Model, load_model\n",
    "import keras\n",
    "from keras.preprocessing.image import ImageDataGenerator\n",
    "\n",
    "from sklearn.metrics import confusion_matrix, accuracy_score, classification_report\n",
    "\n",
    "import os"
   ]
  },
  {
   "cell_type": "code",
   "execution_count": 4,
   "metadata": {},
   "outputs": [],
   "source": [
    "base_dir = \"../skin-cancer-mnist-ham10000\"\n",
    "\n",
    "test_directory = os.path.join(base_dir, \"image_data_test_balanced\")"
   ]
  },
  {
   "cell_type": "code",
   "execution_count": 5,
   "metadata": {},
   "outputs": [],
   "source": [
    "test_data_gen = ImageDataGenerator(rescale= 1./255)"
   ]
  },
  {
   "cell_type": "markdown",
   "metadata": {},
   "source": [
    "> Model 1:\n",
    " - 56 x 75 x 3\n",
    " - mini_batch size = 256\n",
    " - 20 epochs\n",
    " - 16 layers"
   ]
  },
  {
   "cell_type": "code",
   "execution_count": 10,
   "metadata": {},
   "outputs": [
    {
     "name": "stdout",
     "output_type": "stream",
     "text": [
      "Found 196 images belonging to 7 classes.\n"
     ]
    }
   ],
   "source": [
    "test_generator1 = test_data_gen.flow_from_directory(test_directory, target_size = (56,75), class_mode= None, batch_size = 256, shuffle = False)\n",
    "\n",
    "model_1 = load_model(\"../saved_models/model_1.h5\")\n",
    "\n",
    "test_generator1.reset()\n",
    "preds = model_1.predict_generator(test_generator1, steps = 196/256)\n",
    "preds1 = np.argmax(preds, axis =1)"
   ]
  },
  {
   "cell_type": "code",
   "execution_count": 11,
   "metadata": {},
   "outputs": [
    {
     "data": {
      "text/plain": [
       "0.5561224489795918"
      ]
     },
     "execution_count": 11,
     "metadata": {},
     "output_type": "execute_result"
    }
   ],
   "source": [
    "y_true = test_generator1.classes\n",
    "\n",
    "accuracy_score(y_true, preds1)"
   ]
  },
  {
   "cell_type": "code",
   "execution_count": 12,
   "metadata": {},
   "outputs": [
    {
     "name": "stdout",
     "output_type": "stream",
     "text": [
      "              precision    recall  f1-score   support\n",
      "\n",
      "           0       0.46      0.43      0.44        28\n",
      "           1       0.62      0.36      0.45        28\n",
      "           2       0.52      0.54      0.53        28\n",
      "           3       0.45      0.36      0.40        28\n",
      "           4       0.45      0.96      0.61        28\n",
      "           5       0.93      0.93      0.93        28\n",
      "           6       0.60      0.32      0.42        28\n",
      "\n",
      "    accuracy                           0.56       196\n",
      "   macro avg       0.58      0.56      0.54       196\n",
      "weighted avg       0.58      0.56      0.54       196\n",
      "\n"
     ]
    }
   ],
   "source": [
    "print(classification_report(y_true, preds1))"
   ]
  },
  {
   "cell_type": "markdown",
   "metadata": {},
   "source": [
    "> Model 2:\n",
    " - 56 x 75 x 3\n",
    " - mini_batch size = 512\n",
    " - 20 epochs\n",
    " - 16 layers"
   ]
  },
  {
   "cell_type": "code",
   "execution_count": 13,
   "metadata": {},
   "outputs": [
    {
     "name": "stdout",
     "output_type": "stream",
     "text": [
      "Found 196 images belonging to 7 classes.\n"
     ]
    }
   ],
   "source": [
    "batch_size = 512\n",
    "\n",
    "test_generator2 = test_data_gen.flow_from_directory(test_directory, target_size = (56,75), class_mode= None, batch_size = 256, shuffle = False)\n",
    "\n",
    "model_2 = load_model(\"../saved_models/model_2.h5\")\n",
    "\n",
    "test_generator2.reset()\n",
    "preds = model_2.predict_generator(test_generator2, steps = 196/batch_size)\n",
    "preds2 = np.argmax(preds, axis =1)\n"
   ]
  },
  {
   "cell_type": "code",
   "execution_count": 14,
   "metadata": {},
   "outputs": [
    {
     "data": {
      "text/plain": [
       "0.33163265306122447"
      ]
     },
     "execution_count": 14,
     "metadata": {},
     "output_type": "execute_result"
    }
   ],
   "source": [
    "accuracy_score(y_true, preds2)"
   ]
  },
  {
   "cell_type": "code",
   "execution_count": 15,
   "metadata": {},
   "outputs": [
    {
     "name": "stdout",
     "output_type": "stream",
     "text": [
      "              precision    recall  f1-score   support\n",
      "\n",
      "           0       0.00      0.00      0.00        28\n",
      "           1       0.22      0.54      0.31        28\n",
      "           2       0.22      0.07      0.11        28\n",
      "           3       0.00      0.00      0.00        28\n",
      "           4       0.54      0.93      0.68        28\n",
      "           5       0.67      0.07      0.13        28\n",
      "           6       0.38      0.71      0.50        28\n",
      "\n",
      "    accuracy                           0.33       196\n",
      "   macro avg       0.29      0.33      0.25       196\n",
      "weighted avg       0.29      0.33      0.25       196\n",
      "\n"
     ]
    }
   ],
   "source": [
    "print(classification_report(y_true, preds2))"
   ]
  },
  {
   "cell_type": "markdown",
   "metadata": {},
   "source": [
    "> Model 3:\n",
    " - 56 x 75 x 3\n",
    " - mini_batch size = 124\n",
    " - 20 epochs\n",
    " - 16 layers"
   ]
  },
  {
   "cell_type": "code",
   "execution_count": 11,
   "metadata": {},
   "outputs": [
    {
     "name": "stdout",
     "output_type": "stream",
     "text": [
      "Found 196 images belonging to 7 classes.\n"
     ]
    }
   ],
   "source": [
    "batch_size = 128\n",
    "\n",
    "test_generator3 = test_data_gen.flow_from_directory(test_directory, target_size = (56,75), class_mode= None, batch_size = batch_size, shuffle = False)\n",
    "\n",
    "model_3 = load_model(\"../saved_models/model_3.h5\")\n",
    "\n",
    "preds = model_3.predict_generator(test_generator3, steps = 196/batch_size)\n",
    "preds3 = np.argmax(preds, axis =1)\n"
   ]
  },
  {
   "cell_type": "code",
   "execution_count": 12,
   "metadata": {},
   "outputs": [
    {
     "data": {
      "text/plain": [
       "0.5510204081632653"
      ]
     },
     "execution_count": 12,
     "metadata": {},
     "output_type": "execute_result"
    }
   ],
   "source": [
    "accuracy_score(y_true, preds3)"
   ]
  },
  {
   "cell_type": "code",
   "execution_count": 13,
   "metadata": {},
   "outputs": [
    {
     "name": "stdout",
     "output_type": "stream",
     "text": [
      "              precision    recall  f1-score   support\n",
      "\n",
      "           0       0.52      0.39      0.45        28\n",
      "           1       0.71      0.43      0.53        28\n",
      "           2       0.29      0.25      0.27        28\n",
      "           3       0.47      0.50      0.48        28\n",
      "           4       0.48      1.00      0.65        28\n",
      "           5       0.93      0.89      0.91        28\n",
      "           6       0.58      0.39      0.47        28\n",
      "\n",
      "    accuracy                           0.55       196\n",
      "   macro avg       0.57      0.55      0.54       196\n",
      "weighted avg       0.57      0.55      0.54       196\n",
      "\n"
     ]
    }
   ],
   "source": [
    "print(classification_report(y_true, preds3))"
   ]
  },
  {
   "cell_type": "markdown",
   "metadata": {},
   "source": [
    "> Model 4:\n",
    " - 56 x 75 x 3\n",
    " - mini_batch size = 256\n",
    " - 20 epochs\n",
    " - pretrained layers with mobile net v2\n",
    " - +6 top layers"
   ]
  },
  {
   "cell_type": "code",
   "execution_count": 14,
   "metadata": {},
   "outputs": [
    {
     "name": "stdout",
     "output_type": "stream",
     "text": [
      "Found 196 images belonging to 7 classes.\n"
     ]
    },
    {
     "name": "stderr",
     "output_type": "stream",
     "text": [
      "W0825 18:18:02.892883 4608787904 deprecation_wrapper.py:119] From /Users/mdevlin/anaconda3/envs/deeplearning/lib/python3.7/site-packages/keras/backend/tensorflow_backend.py:1834: The name tf.nn.fused_batch_norm is deprecated. Please use tf.compat.v1.nn.fused_batch_norm instead.\n",
      "\n"
     ]
    }
   ],
   "source": [
    "batch_size = 256\n",
    "\n",
    "test_generator4 = test_data_gen.flow_from_directory(test_directory, target_size = (56,75), class_mode= None, batch_size = 256, shuffle = False)\n",
    "\n",
    "model_4 = load_model(\"../saved_models/model_4.h5\")\n",
    "\n",
    "preds = model_4.predict_generator(test_generator4, steps = 196/batch_size)\n",
    "preds4 = np.argmax(preds, axis =1)\n"
   ]
  },
  {
   "cell_type": "code",
   "execution_count": 15,
   "metadata": {},
   "outputs": [
    {
     "data": {
      "text/plain": [
       "0.5153061224489796"
      ]
     },
     "execution_count": 15,
     "metadata": {},
     "output_type": "execute_result"
    }
   ],
   "source": [
    "accuracy_score(y_true, preds4)"
   ]
  },
  {
   "cell_type": "code",
   "execution_count": 16,
   "metadata": {},
   "outputs": [
    {
     "name": "stdout",
     "output_type": "stream",
     "text": [
      "              precision    recall  f1-score   support\n",
      "\n",
      "           0       0.50      0.36      0.42        28\n",
      "           1       0.57      0.43      0.49        28\n",
      "           2       0.42      0.61      0.50        28\n",
      "           3       0.56      0.50      0.53        28\n",
      "           4       0.40      0.61      0.49        28\n",
      "           5       0.85      0.61      0.71        28\n",
      "           6       0.50      0.50      0.50        28\n",
      "\n",
      "    accuracy                           0.52       196\n",
      "   macro avg       0.54      0.52      0.52       196\n",
      "weighted avg       0.54      0.52      0.52       196\n",
      "\n"
     ]
    }
   ],
   "source": [
    "print(classification_report(y_true, preds4))"
   ]
  },
  {
   "cell_type": "markdown",
   "metadata": {},
   "source": [
    "> Model 5:\n",
    " - 150 x 150 x 3\n",
    " - mini_batch size = 512\n",
    " - 20 epochs\n",
    " - pretrained layers with mobile net v2\n",
    " - +6 top layers"
   ]
  },
  {
   "cell_type": "code",
   "execution_count": 17,
   "metadata": {},
   "outputs": [
    {
     "name": "stdout",
     "output_type": "stream",
     "text": [
      "Found 196 images belonging to 7 classes.\n"
     ]
    }
   ],
   "source": [
    "batch_size = 512\n",
    "\n",
    "test_generator5 = test_data_gen.flow_from_directory(test_directory, target_size = (150,150), class_mode= None, batch_size = 256, shuffle = False)\n",
    "\n",
    "model_5 = load_model(\"../saved_models/model_5.h5\")\n",
    "\n",
    "preds = model_5.predict_generator(test_generator5, steps = 196/batch_size)\n",
    "preds5 = np.argmax(preds, axis =1)\n"
   ]
  },
  {
   "cell_type": "code",
   "execution_count": 18,
   "metadata": {},
   "outputs": [
    {
     "data": {
      "text/plain": [
       "0.5153061224489796"
      ]
     },
     "execution_count": 18,
     "metadata": {},
     "output_type": "execute_result"
    }
   ],
   "source": [
    "accuracy_score(y_true, preds5)"
   ]
  },
  {
   "cell_type": "code",
   "execution_count": 19,
   "metadata": {},
   "outputs": [
    {
     "name": "stdout",
     "output_type": "stream",
     "text": [
      "              precision    recall  f1-score   support\n",
      "\n",
      "           0       0.58      0.39      0.47        28\n",
      "           1       0.69      0.39      0.50        28\n",
      "           2       0.29      0.64      0.40        28\n",
      "           3       0.73      0.29      0.41        28\n",
      "           4       0.44      0.79      0.56        28\n",
      "           5       0.96      0.82      0.88        28\n",
      "           6       0.57      0.29      0.38        28\n",
      "\n",
      "    accuracy                           0.52       196\n",
      "   macro avg       0.61      0.52      0.52       196\n",
      "weighted avg       0.61      0.52      0.52       196\n",
      "\n"
     ]
    }
   ],
   "source": [
    "print(classification_report(y_true, preds5))"
   ]
  },
  {
   "cell_type": "markdown",
   "metadata": {},
   "source": [
    "> Model 6:\n",
    " - 150 x 150 x 3\n",
    " - mini_batch size = 256\n",
    " - 20 epochs\n",
    " - pretrained layers with mobile net v2\n",
    " - +6 top layers"
   ]
  },
  {
   "cell_type": "code",
   "execution_count": 20,
   "metadata": {},
   "outputs": [
    {
     "name": "stdout",
     "output_type": "stream",
     "text": [
      "Found 196 images belonging to 7 classes.\n"
     ]
    }
   ],
   "source": [
    "batch_size = 256\n",
    "\n",
    "test_generator6 = test_data_gen.flow_from_directory(test_directory, target_size = (150,150), class_mode= None, batch_size = 256, shuffle = False)\n",
    "\n",
    "model_6 = load_model(\"../saved_models/model_6.h5\")\n",
    "\n",
    "preds = model_6.predict_generator(test_generator6, steps = 196/batch_size)\n",
    "preds6 = np.argmax(preds, axis =1)\n"
   ]
  },
  {
   "cell_type": "code",
   "execution_count": 21,
   "metadata": {},
   "outputs": [
    {
     "data": {
      "text/plain": [
       "0.5051020408163265"
      ]
     },
     "execution_count": 21,
     "metadata": {},
     "output_type": "execute_result"
    }
   ],
   "source": [
    "accuracy_score(y_true, preds6)"
   ]
  },
  {
   "cell_type": "code",
   "execution_count": 22,
   "metadata": {},
   "outputs": [
    {
     "name": "stdout",
     "output_type": "stream",
     "text": [
      "              precision    recall  f1-score   support\n",
      "\n",
      "           0       0.58      0.39      0.47        28\n",
      "           1       0.67      0.14      0.24        28\n",
      "           2       0.29      0.43      0.35        28\n",
      "           3       0.51      0.93      0.66        28\n",
      "           4       0.47      0.75      0.58        28\n",
      "           5       0.77      0.86      0.81        28\n",
      "           6       0.33      0.04      0.06        28\n",
      "\n",
      "    accuracy                           0.51       196\n",
      "   macro avg       0.52      0.51      0.45       196\n",
      "weighted avg       0.52      0.51      0.45       196\n",
      "\n"
     ]
    }
   ],
   "source": [
    "print(classification_report(y_true, preds6))"
   ]
  },
  {
   "cell_type": "code",
   "execution_count": 27,
   "metadata": {},
   "outputs": [
    {
     "name": "stdout",
     "output_type": "stream",
     "text": [
      "Found 196 images belonging to 7 classes.\n"
     ]
    },
    {
     "name": "stderr",
     "output_type": "stream",
     "text": [
      "W0826 07:31:29.108899 4653954496 deprecation_wrapper.py:119] From /Users/mdevlin/anaconda3/envs/deeplearning/lib/python3.7/site-packages/keras/backend/tensorflow_backend.py:1834: The name tf.nn.fused_batch_norm is deprecated. Please use tf.compat.v1.nn.fused_batch_norm instead.\n",
      "\n"
     ]
    }
   ],
   "source": [
    "batch_size = 256\n",
    "\n",
    "test_generator7 = test_data_gen.flow_from_directory(test_directory, target_size = (150,150), class_mode= None, batch_size = 256, shuffle = False)\n",
    "\n",
    "model_7 = load_model(\"../saved_models/model_7.h5\")\n",
    "\n",
    "preds = model_7.predict_generator(test_generator7, steps = 196/batch_size)\n",
    "preds7 = np.argmax(preds, axis =1)"
   ]
  },
  {
   "cell_type": "code",
   "execution_count": 28,
   "metadata": {},
   "outputs": [
    {
     "data": {
      "text/plain": [
       "0.5816326530612245"
      ]
     },
     "execution_count": 28,
     "metadata": {},
     "output_type": "execute_result"
    }
   ],
   "source": [
    "accuracy_score(y_true, preds7)"
   ]
  },
  {
   "cell_type": "code",
   "execution_count": 29,
   "metadata": {},
   "outputs": [
    {
     "name": "stdout",
     "output_type": "stream",
     "text": [
      "              precision    recall  f1-score   support\n",
      "\n",
      "           0       0.70      0.50      0.58        28\n",
      "           1       0.68      0.61      0.64        28\n",
      "           2       0.37      0.68      0.48        28\n",
      "           3       0.86      0.21      0.34        28\n",
      "           4       0.50      0.75      0.60        28\n",
      "           5       1.00      0.79      0.88        28\n",
      "           6       0.52      0.54      0.53        28\n",
      "\n",
      "    accuracy                           0.58       196\n",
      "   macro avg       0.66      0.58      0.58       196\n",
      "weighted avg       0.66      0.58      0.58       196\n",
      "\n"
     ]
    }
   ],
   "source": [
    "print(classification_report(y_true, preds7))"
   ]
  },
  {
   "cell_type": "markdown",
   "metadata": {},
   "source": [
    "## Best Model: Model 2?"
   ]
  },
  {
   "cell_type": "code",
   "execution_count": 22,
   "metadata": {},
   "outputs": [
    {
     "data": {
      "text/html": [
       "<div>\n",
       "<style scoped>\n",
       "    .dataframe tbody tr th:only-of-type {\n",
       "        vertical-align: middle;\n",
       "    }\n",
       "\n",
       "    .dataframe tbody tr th {\n",
       "        vertical-align: top;\n",
       "    }\n",
       "\n",
       "    .dataframe thead th {\n",
       "        text-align: right;\n",
       "    }\n",
       "</style>\n",
       "<table border=\"1\" class=\"dataframe\">\n",
       "  <thead>\n",
       "    <tr style=\"text-align: right;\">\n",
       "      <th></th>\n",
       "      <th>pred_0</th>\n",
       "      <th>pred_1</th>\n",
       "      <th>pred_2</th>\n",
       "      <th>pred_3</th>\n",
       "      <th>pred_4</th>\n",
       "      <th>pred_5</th>\n",
       "      <th>pred_6</th>\n",
       "    </tr>\n",
       "  </thead>\n",
       "  <tbody>\n",
       "    <tr>\n",
       "      <th>true_0</th>\n",
       "      <td>0</td>\n",
       "      <td>19</td>\n",
       "      <td>0</td>\n",
       "      <td>4</td>\n",
       "      <td>2</td>\n",
       "      <td>0</td>\n",
       "      <td>3</td>\n",
       "    </tr>\n",
       "    <tr>\n",
       "      <th>true_1</th>\n",
       "      <td>1</td>\n",
       "      <td>15</td>\n",
       "      <td>3</td>\n",
       "      <td>4</td>\n",
       "      <td>0</td>\n",
       "      <td>0</td>\n",
       "      <td>5</td>\n",
       "    </tr>\n",
       "    <tr>\n",
       "      <th>true_2</th>\n",
       "      <td>1</td>\n",
       "      <td>5</td>\n",
       "      <td>2</td>\n",
       "      <td>3</td>\n",
       "      <td>4</td>\n",
       "      <td>0</td>\n",
       "      <td>13</td>\n",
       "    </tr>\n",
       "    <tr>\n",
       "      <th>true_3</th>\n",
       "      <td>0</td>\n",
       "      <td>19</td>\n",
       "      <td>2</td>\n",
       "      <td>0</td>\n",
       "      <td>2</td>\n",
       "      <td>1</td>\n",
       "      <td>4</td>\n",
       "    </tr>\n",
       "    <tr>\n",
       "      <th>true_4</th>\n",
       "      <td>0</td>\n",
       "      <td>0</td>\n",
       "      <td>0</td>\n",
       "      <td>0</td>\n",
       "      <td>26</td>\n",
       "      <td>0</td>\n",
       "      <td>2</td>\n",
       "    </tr>\n",
       "    <tr>\n",
       "      <th>true_5</th>\n",
       "      <td>0</td>\n",
       "      <td>9</td>\n",
       "      <td>1</td>\n",
       "      <td>0</td>\n",
       "      <td>11</td>\n",
       "      <td>2</td>\n",
       "      <td>5</td>\n",
       "    </tr>\n",
       "    <tr>\n",
       "      <th>true_6</th>\n",
       "      <td>0</td>\n",
       "      <td>1</td>\n",
       "      <td>1</td>\n",
       "      <td>3</td>\n",
       "      <td>3</td>\n",
       "      <td>0</td>\n",
       "      <td>20</td>\n",
       "    </tr>\n",
       "  </tbody>\n",
       "</table>\n",
       "</div>"
      ],
      "text/plain": [
       "        pred_0  pred_1  pred_2  pred_3  pred_4  pred_5  pred_6\n",
       "true_0       0      19       0       4       2       0       3\n",
       "true_1       1      15       3       4       0       0       5\n",
       "true_2       1       5       2       3       4       0      13\n",
       "true_3       0      19       2       0       2       1       4\n",
       "true_4       0       0       0       0      26       0       2\n",
       "true_5       0       9       1       0      11       2       5\n",
       "true_6       0       1       1       3       3       0      20"
      ]
     },
     "execution_count": 22,
     "metadata": {},
     "output_type": "execute_result"
    }
   ],
   "source": [
    "pd.DataFrame(confusion_matrix(y_true, preds2), \n",
    "             columns = [\"pred_0\", \"pred_1\", \"pred_2\", \"pred_3\", \"pred_4\", \"pred_5\", \"pred_6\"],\n",
    "             index = [\"true_0\", \"true_1\", \"true_2\", \"true_3\", \"true_4\", \"true_5\", \"true_6\"])"
   ]
  },
  {
   "cell_type": "code",
   "execution_count": 23,
   "metadata": {
    "scrolled": true
   },
   "outputs": [
    {
     "name": "stdout",
     "output_type": "stream",
     "text": [
      "              precision    recall  f1-score   support\n",
      "\n",
      "           0       0.00      0.00      0.00        28\n",
      "           1       0.22      0.54      0.31        28\n",
      "           2       0.22      0.07      0.11        28\n",
      "           3       0.00      0.00      0.00        28\n",
      "           4       0.54      0.93      0.68        28\n",
      "           5       0.67      0.07      0.13        28\n",
      "           6       0.38      0.71      0.50        28\n",
      "\n",
      "    accuracy                           0.33       196\n",
      "   macro avg       0.29      0.33      0.25       196\n",
      "weighted avg       0.29      0.33      0.25       196\n",
      "\n"
     ]
    }
   ],
   "source": [
    "print(classification_report(y_true, preds2))"
   ]
  },
  {
   "cell_type": "markdown",
   "metadata": {},
   "source": [
    "> Low precision means that case 6 was predicted in many cases where it was not case 6. High recall means that we caught 71% of the cases that were melanoma."
   ]
  },
  {
   "cell_type": "code",
   "execution_count": null,
   "metadata": {},
   "outputs": [],
   "source": []
  }
 ],
 "metadata": {
  "kernelspec": {
   "display_name": "Python 3",
   "language": "python",
   "name": "python3"
  },
  "language_info": {
   "codemirror_mode": {
    "name": "ipython",
    "version": 3
   },
   "file_extension": ".py",
   "mimetype": "text/x-python",
   "name": "python",
   "nbconvert_exporter": "python",
   "pygments_lexer": "ipython3",
   "version": "3.7.3"
  }
 },
 "nbformat": 4,
 "nbformat_minor": 2
}
