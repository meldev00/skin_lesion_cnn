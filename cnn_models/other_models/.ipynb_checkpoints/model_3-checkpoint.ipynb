{
 "cells": [
  {
   "cell_type": "markdown",
   "metadata": {},
   "source": [
    "## Model 3:\n",
    " - 56 x 75 x 3\n",
    " - mini_batch size = 124\n",
    " - 20 epochs\n",
    " - 16 layers"
   ]
  },
  {
   "cell_type": "code",
   "execution_count": 1,
   "metadata": {},
   "outputs": [
    {
     "name": "stderr",
     "output_type": "stream",
     "text": [
      "Using TensorFlow backend.\n"
     ]
    }
   ],
   "source": [
    "import keras\n",
    "import tensorflow as tf\n",
    "import PIL\n",
    "import os, shutil\n",
    "import numpy as np\n",
    "\n",
    "from keras.layers import Dense, Conv2D, MaxPooling2D, Flatten, Dropout\n",
    "from keras.models import Sequential\n",
    "from keras import optimizers\n",
    "from keras.preprocessing.image import ImageDataGenerator\n",
    "\n",
    "import matplotlib.pyplot as plt\n",
    "\n",
    "import os\n",
    "from os import listdir\n",
    "os.environ['KMP_DUPLICATE_LIB_OK']='True'\n",
    "import warnings\n",
    "warnings.filterwarnings(\"ignore\")"
   ]
  },
  {
   "cell_type": "code",
   "execution_count": 4,
   "metadata": {},
   "outputs": [],
   "source": [
    "base_directory = \"skin-cancer-mnist-ham10000\"\n",
    "\n",
    "train_directory = os.path.join(base_directory, 'image_data_train')\n",
    "validation_directory = os.path.join(base_directory, 'image_data_validation')\n",
    "aug_train_directory = os.path.join(base_directory, 'image_data_train_augmented')\n",
    "bal_val_dir = os.path.join(base_directory, 'image_data_validation_balanced')\n",
    "\n",
    "train_type0 = os.path.join(train_directory, 'type_0')\n",
    "train_type1 = os.path.join(train_directory, 'type_1')\n",
    "train_type2 = os.path.join(train_directory, 'type_2')\n",
    "train_type3 = os.path.join(train_directory, 'type_3')\n",
    "train_type4 = os.path.join(train_directory, 'type_4')\n",
    "train_type5 = os.path.join(train_directory, 'type_5')\n",
    "train_type6 = os.path.join(train_directory, 'type_6')\n",
    "\n",
    "aug_train_type0 = os.path.join(aug_train_directory, 'type_0')\n",
    "aug_train_type1 = os.path.join(aug_train_directory, 'type_1')\n",
    "aug_train_type2 = os.path.join(aug_train_directory, 'type_2')\n",
    "aug_train_type3 = os.path.join(aug_train_directory, 'type_3')\n",
    "aug_train_type4 = os.path.join(aug_train_directory, 'type_4')\n",
    "aug_train_type5 = os.path.join(aug_train_directory, 'type_5')\n",
    "aug_train_type6 = os.path.join(aug_train_directory, 'type_6')\n",
    "\n",
    "# test_type0 = os.path.join(test_directory, 'type_0')\n",
    "# test_type1 = os.path.join(test_directory, 'type_1')\n",
    "# test_type2 = os.path.join(test_directory, 'type_2')\n",
    "# test_type3 = os.path.join(test_directory, 'type_3')\n",
    "# test_type4 = os.path.join(test_directory, 'type_4')\n",
    "# test_type5 = os.path.join(test_directory, 'type_5')\n",
    "# test_type6 = os.path.join(test_directory, 'type_6')\n",
    "\n",
    "val_type0 = os.path.join(validation_directory, 'type_0')\n",
    "val_type1 = os.path.join(validation_directory, 'type_1')\n",
    "val_type2 = os.path.join(validation_directory, 'type_2')\n",
    "val_type3 = os.path.join(validation_directory, 'type_3')\n",
    "val_type4 = os.path.join(validation_directory, 'type_4')\n",
    "val_type5 = os.path.join(validation_directory, 'type_5')\n",
    "val_type6 = os.path.join(validation_directory, 'type_6')"
   ]
  },
  {
   "cell_type": "code",
   "execution_count": null,
   "metadata": {},
   "outputs": [],
   "source": []
  },
  {
   "cell_type": "code",
   "execution_count": 5,
   "metadata": {},
   "outputs": [
    {
     "name": "stdout",
     "output_type": "stream",
     "text": [
      "skin-cancer-mnist-ham10000/image_data_train_augmented/type_0: 3575\n",
      "skin-cancer-mnist-ham10000/image_data_train_augmented/type_1: 3804\n",
      "skin-cancer-mnist-ham10000/image_data_train_augmented/type_2: 4298\n",
      "skin-cancer-mnist-ham10000/image_data_train_augmented/type_3: 3419\n",
      "skin-cancer-mnist-ham10000/image_data_train_augmented/type_4: 3352\n",
      "skin-cancer-mnist-ham10000/image_data_train_augmented/type_5: 3471\n",
      "skin-cancer-mnist-ham10000/image_data_train_augmented/type_6: 4354\n"
     ]
    }
   ],
   "source": [
    "for i in [aug_train_type0,aug_train_type1,aug_train_type2,aug_train_type3,aug_train_type4,aug_train_type5,aug_train_type6]:\n",
    "    print(f\"{i}: {len(listdir(i))}\")\n",
    "\n"
   ]
  },
  {
   "cell_type": "code",
   "execution_count": 6,
   "metadata": {},
   "outputs": [
    {
     "name": "stderr",
     "output_type": "stream",
     "text": [
      "WARNING: Logging before flag parsing goes to stderr.\n",
      "W0824 14:27:01.650898 4695971264 deprecation_wrapper.py:119] From /Users/mdevlin/anaconda3/envs/deeplearning/lib/python3.7/site-packages/keras/backend/tensorflow_backend.py:74: The name tf.get_default_graph is deprecated. Please use tf.compat.v1.get_default_graph instead.\n",
      "\n",
      "W0824 14:27:01.710133 4695971264 deprecation_wrapper.py:119] From /Users/mdevlin/anaconda3/envs/deeplearning/lib/python3.7/site-packages/keras/backend/tensorflow_backend.py:517: The name tf.placeholder is deprecated. Please use tf.compat.v1.placeholder instead.\n",
      "\n",
      "W0824 14:27:01.715031 4695971264 deprecation_wrapper.py:119] From /Users/mdevlin/anaconda3/envs/deeplearning/lib/python3.7/site-packages/keras/backend/tensorflow_backend.py:4138: The name tf.random_uniform is deprecated. Please use tf.random.uniform instead.\n",
      "\n",
      "W0824 14:27:01.833127 4695971264 deprecation_wrapper.py:119] From /Users/mdevlin/anaconda3/envs/deeplearning/lib/python3.7/site-packages/keras/backend/tensorflow_backend.py:3976: The name tf.nn.max_pool is deprecated. Please use tf.nn.max_pool2d instead.\n",
      "\n",
      "W0824 14:27:02.003676 4695971264 deprecation_wrapper.py:119] From /Users/mdevlin/anaconda3/envs/deeplearning/lib/python3.7/site-packages/keras/backend/tensorflow_backend.py:133: The name tf.placeholder_with_default is deprecated. Please use tf.compat.v1.placeholder_with_default instead.\n",
      "\n",
      "W0824 14:27:02.013889 4695971264 deprecation.py:506] From /Users/mdevlin/anaconda3/envs/deeplearning/lib/python3.7/site-packages/keras/backend/tensorflow_backend.py:3445: calling dropout (from tensorflow.python.ops.nn_ops) with keep_prob is deprecated and will be removed in a future version.\n",
      "Instructions for updating:\n",
      "Please use `rate` instead of `keep_prob`. Rate should be set to `rate = 1 - keep_prob`.\n"
     ]
    }
   ],
   "source": [
    "model = Sequential()\n",
    "\n",
    "model.add(Conv2D(64, (3, 3), activation='relu', padding = \"same\", input_shape=(56, 75, 3)))\n",
    "model.add(Conv2D(64, (3, 3), activation='relu', padding = \"same\", input_shape=(56, 75, 3)))\n",
    "model.add(MaxPooling2D((2, 2)))\n",
    "\n",
    "model.add(Conv2D(32, (3, 3), activation='relu', padding = \"same\"))\n",
    "model.add(Conv2D(32, (3, 3), activation='relu', padding = \"same\"))\n",
    "model.add(MaxPooling2D((2, 2)))\n",
    "\n",
    "model.add(Conv2D(32, (3, 3), activation='relu', padding = \"same\"))\n",
    "model.add(Conv2D(32, (3, 3), activation='relu', padding = \"same\"))\n",
    "model.add(MaxPooling2D((2, 2)))\n",
    "\n",
    "model.add(Flatten())\n",
    "# model.add(Dropout(rate = 0.5))\n",
    "\n",
    "model.add(Dense(512, activation='relu'))\n",
    "model.add(Dropout(rate = 0.5))\n",
    "\n",
    "model.add(Dense(256, activation='relu'))\n",
    "# model.add(Dropout(rate = 0.5))\n",
    "\n",
    "model.add(Dense(128, activation='relu'))\n",
    "model.add(Dropout(rate = 0.5))\n",
    "\n",
    "model.add(Dense(128, activation='relu'))\n",
    "model.add(Dropout(rate = 0.5))\n",
    "\n",
    "model.add(Dense(64, activation='relu'))\n",
    "\n",
    "model.add(Dense(7, activation='softmax'))"
   ]
  },
  {
   "cell_type": "code",
   "execution_count": 7,
   "metadata": {},
   "outputs": [
    {
     "name": "stdout",
     "output_type": "stream",
     "text": [
      "_________________________________________________________________\n",
      "Layer (type)                 Output Shape              Param #   \n",
      "=================================================================\n",
      "conv2d_1 (Conv2D)            (None, 56, 75, 64)        1792      \n",
      "_________________________________________________________________\n",
      "conv2d_2 (Conv2D)            (None, 56, 75, 64)        36928     \n",
      "_________________________________________________________________\n",
      "max_pooling2d_1 (MaxPooling2 (None, 28, 37, 64)        0         \n",
      "_________________________________________________________________\n",
      "conv2d_3 (Conv2D)            (None, 28, 37, 32)        18464     \n",
      "_________________________________________________________________\n",
      "conv2d_4 (Conv2D)            (None, 28, 37, 32)        9248      \n",
      "_________________________________________________________________\n",
      "max_pooling2d_2 (MaxPooling2 (None, 14, 18, 32)        0         \n",
      "_________________________________________________________________\n",
      "conv2d_5 (Conv2D)            (None, 14, 18, 32)        9248      \n",
      "_________________________________________________________________\n",
      "conv2d_6 (Conv2D)            (None, 14, 18, 32)        9248      \n",
      "_________________________________________________________________\n",
      "max_pooling2d_3 (MaxPooling2 (None, 7, 9, 32)          0         \n",
      "_________________________________________________________________\n",
      "flatten_1 (Flatten)          (None, 2016)              0         \n",
      "_________________________________________________________________\n",
      "dense_1 (Dense)              (None, 512)               1032704   \n",
      "_________________________________________________________________\n",
      "dropout_1 (Dropout)          (None, 512)               0         \n",
      "_________________________________________________________________\n",
      "dense_2 (Dense)              (None, 256)               131328    \n",
      "_________________________________________________________________\n",
      "dense_3 (Dense)              (None, 128)               32896     \n",
      "_________________________________________________________________\n",
      "dropout_2 (Dropout)          (None, 128)               0         \n",
      "_________________________________________________________________\n",
      "dense_4 (Dense)              (None, 128)               16512     \n",
      "_________________________________________________________________\n",
      "dropout_3 (Dropout)          (None, 128)               0         \n",
      "_________________________________________________________________\n",
      "dense_5 (Dense)              (None, 64)                8256      \n",
      "_________________________________________________________________\n",
      "dense_6 (Dense)              (None, 7)                 455       \n",
      "=================================================================\n",
      "Total params: 1,307,079\n",
      "Trainable params: 1,307,079\n",
      "Non-trainable params: 0\n",
      "_________________________________________________________________\n"
     ]
    }
   ],
   "source": [
    "model.summary()"
   ]
  },
  {
   "cell_type": "code",
   "execution_count": 8,
   "metadata": {},
   "outputs": [
    {
     "name": "stderr",
     "output_type": "stream",
     "text": [
      "W0824 14:27:06.543065 4695971264 deprecation_wrapper.py:119] From /Users/mdevlin/anaconda3/envs/deeplearning/lib/python3.7/site-packages/keras/optimizers.py:790: The name tf.train.Optimizer is deprecated. Please use tf.compat.v1.train.Optimizer instead.\n",
      "\n",
      "W0824 14:27:06.556011 4695971264 deprecation_wrapper.py:119] From /Users/mdevlin/anaconda3/envs/deeplearning/lib/python3.7/site-packages/keras/backend/tensorflow_backend.py:3295: The name tf.log is deprecated. Please use tf.math.log instead.\n",
      "\n"
     ]
    }
   ],
   "source": [
    "adam = optimizers.Adam(lr = 0.001)\n",
    "model.compile(loss = 'categorical_crossentropy',\n",
    "              optimizer = adam,\n",
    "              metrics = ['acc'])"
   ]
  },
  {
   "cell_type": "code",
   "execution_count": 9,
   "metadata": {},
   "outputs": [],
   "source": [
    "train_datagen = ImageDataGenerator(rescale = 1./255)\n",
    "val_datagen = ImageDataGenerator(rescale=1./255)"
   ]
  },
  {
   "cell_type": "code",
   "execution_count": 10,
   "metadata": {},
   "outputs": [
    {
     "name": "stdout",
     "output_type": "stream",
     "text": [
      "Found 26273 images belonging to 7 classes.\n",
      "Found 196 images belonging to 7 classes.\n"
     ]
    }
   ],
   "source": [
    "train_generator = train_datagen.flow_from_directory(\n",
    "        aug_train_directory,\n",
    "        target_size=(56, 75), \n",
    "        batch_size= 128,\n",
    "        class_mode='categorical' \n",
    ")\n",
    "\n",
    "validation_generator = val_datagen.flow_from_directory(\n",
    "        bal_val_dir,\n",
    "        target_size=(56, 75),\n",
    "        batch_size= 128,\n",
    "        class_mode='categorical')"
   ]
  },
  {
   "cell_type": "code",
   "execution_count": 11,
   "metadata": {},
   "outputs": [
    {
     "name": "stdout",
     "output_type": "stream",
     "text": [
      "data batch shape: (128, 56, 75, 3)\n",
      "labels batch shape: (128, 7)\n"
     ]
    }
   ],
   "source": [
    "for data_batch, labels_batch in train_generator:\n",
    "    print('data batch shape:', data_batch.shape)\n",
    "    print('labels batch shape:', labels_batch.shape)\n",
    "    break"
   ]
  },
  {
   "cell_type": "code",
   "execution_count": 12,
   "metadata": {},
   "outputs": [],
   "source": [
    "from keras.callbacks import EarlyStopping, ReduceLROnPlateau\n",
    "\n",
    "callbacks = [EarlyStopping(monitor= \"val_loss\", patience = 5, restore_best_weights= True),\n",
    "             ReduceLROnPlateau(monitor=\"loss\", patience = 2)]\n"
   ]
  },
  {
   "cell_type": "code",
   "execution_count": 13,
   "metadata": {
    "scrolled": true
   },
   "outputs": [
    {
     "name": "stderr",
     "output_type": "stream",
     "text": [
      "W0824 14:27:49.849337 4695971264 deprecation.py:323] From /Users/mdevlin/anaconda3/envs/deeplearning/lib/python3.7/site-packages/tensorflow/python/ops/math_grad.py:1250: add_dispatch_support.<locals>.wrapper (from tensorflow.python.ops.array_ops) is deprecated and will be removed in a future version.\n",
      "Instructions for updating:\n",
      "Use tf.where in 2.0, which has the same broadcast rule as np.where\n"
     ]
    },
    {
     "name": "stdout",
     "output_type": "stream",
     "text": [
      "Epoch 1/20\n",
      "206/206 [==============================] - 386s 2s/step - loss: 1.9401 - acc: 0.1594 - val_loss: 1.9441 - val_acc: 0.1224\n",
      "Epoch 2/20\n",
      "206/206 [==============================] - 376s 2s/step - loss: 1.8786 - acc: 0.2074 - val_loss: 1.7159 - val_acc: 0.2551\n",
      "Epoch 3/20\n",
      "206/206 [==============================] - 439s 2s/step - loss: 1.6280 - acc: 0.3290 - val_loss: 1.6110 - val_acc: 0.3163\n",
      "Epoch 4/20\n",
      "206/206 [==============================] - 504s 2s/step - loss: 1.4787 - acc: 0.3974 - val_loss: 1.6750 - val_acc: 0.3469\n",
      "Epoch 5/20\n",
      "206/206 [==============================] - 500s 2s/step - loss: 1.2750 - acc: 0.4728 - val_loss: 1.6061 - val_acc: 0.3980\n",
      "Epoch 6/20\n",
      "206/206 [==============================] - 509s 2s/step - loss: 1.1688 - acc: 0.5213 - val_loss: 1.5211 - val_acc: 0.4286\n",
      "Epoch 7/20\n",
      "206/206 [==============================] - 515s 3s/step - loss: 1.1039 - acc: 0.5461 - val_loss: 1.5352 - val_acc: 0.4337\n",
      "Epoch 8/20\n",
      "206/206 [==============================] - 499s 2s/step - loss: 1.0786 - acc: 0.5627 - val_loss: 1.5219 - val_acc: 0.4592\n",
      "Epoch 9/20\n",
      "206/206 [==============================] - 516s 3s/step - loss: 1.0276 - acc: 0.5831 - val_loss: 1.4542 - val_acc: 0.4949\n",
      "Epoch 10/20\n",
      "206/206 [==============================] - 516s 3s/step - loss: 0.9841 - acc: 0.6096 - val_loss: 1.6132 - val_acc: 0.4796\n",
      "Epoch 11/20\n",
      "206/206 [==============================] - 504s 2s/step - loss: 0.9426 - acc: 0.6304 - val_loss: 1.5115 - val_acc: 0.5153\n",
      "Epoch 12/20\n",
      "206/206 [==============================] - 403s 2s/step - loss: 0.9087 - acc: 0.6473 - val_loss: 1.4654 - val_acc: 0.5816\n",
      "Epoch 13/20\n",
      "206/206 [==============================] - 411s 2s/step - loss: 0.8520 - acc: 0.6727 - val_loss: 1.5904 - val_acc: 0.5357\n",
      "Epoch 14/20\n",
      "206/206 [==============================] - 392s 2s/step - loss: 0.8105 - acc: 0.6967 - val_loss: 1.5610 - val_acc: 0.5459\n"
     ]
    }
   ],
   "source": [
    "history = model.fit_generator(\n",
    "      train_generator,\n",
    "      steps_per_epoch=np.ceil(26273/128),\n",
    "      epochs=20,\n",
    "      validation_data=validation_generator,\n",
    "      validation_steps= np.ceil(2502/128),\n",
    "      callbacks= callbacks,\n",
    ")"
   ]
  },
  {
   "cell_type": "code",
   "execution_count": 14,
   "metadata": {},
   "outputs": [],
   "source": [
    "model.save(\"model_3.h5\")"
   ]
  },
  {
   "cell_type": "code",
   "execution_count": 15,
   "metadata": {},
   "outputs": [
    {
     "data": {
      "image/png": "[encoded data removed]",
      "text/plain": [
       "<Figure size 432x288 with 1 Axes>"
      ]
     },
     "metadata": {
      "needs_background": "light"
     },
     "output_type": "display_data"
    }
   ],
   "source": [
    "plt.plot(history.history[\"loss\"], label = \"loss\")\n",
    "plt.plot(history.history[\"val_loss\"], label = \"val_loss\")\n",
    "plt.legend();"
   ]
  },
  {
   "cell_type": "code",
   "execution_count": 16,
   "metadata": {},
   "outputs": [
    {
     "data": {
      "image/png": "[encoded data removed]",
      "text/plain": [
       "<Figure size 432x288 with 1 Axes>"
      ]
     },
     "metadata": {
      "needs_background": "light"
     },
     "output_type": "display_data"
    }
   ],
   "source": [
    "plt.plot(history.history[\"acc\"], label = \"acc\")\n",
    "plt.plot(history.history[\"val_acc\"], label = \"val_acc\")\n",
    "plt.legend();"
   ]
  },
  {
   "cell_type": "code",
   "execution_count": null,
   "metadata": {},
   "outputs": [],
   "source": []
  }
 ],
 "metadata": {
  "kernelspec": {
   "display_name": "Python 3",
   "language": "python",
   "name": "python3"
  },
  "language_info": {
   "codemirror_mode": {
    "name": "ipython",
    "version": 3
   },
   "file_extension": ".py",
   "mimetype": "text/x-python",
   "name": "python",
   "nbconvert_exporter": "python",
   "pygments_lexer": "ipython3",
   "version": "3.7.3"
  }
 },
 "nbformat": 4,
 "nbformat_minor": 2
}
