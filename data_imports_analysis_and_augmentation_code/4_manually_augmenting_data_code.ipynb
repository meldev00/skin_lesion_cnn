{
 "cells": [
  {
   "cell_type": "markdown",
   "metadata": {},
   "source": [
    "> This notebook is used to augment data and create more augmented images to add to the training data. It uses the Keras ImageGenerator. The end is commented out so that I did not mistakenly run them again as I added on."
   ]
  },
  {
   "cell_type": "code",
   "execution_count": 1,
   "metadata": {},
   "outputs": [
    {
     "name": "stderr",
     "output_type": "stream",
     "text": [
      "Using TensorFlow backend.\n"
     ]
    }
   ],
   "source": [
    "import pandas as pd\n",
    "import PIL\n",
    "from PIL import Image\n",
    "from matplotlib import image\n",
    "from keras.preprocessing.image import ImageDataGenerator\n",
    "import os, shutil\n",
    "from os import listdir\n",
    "import matplotlib.pyplot as plt\n",
    "import random"
   ]
  },
  {
   "cell_type": "code",
   "execution_count": 6,
   "metadata": {},
   "outputs": [],
   "source": [
    "base_directory = \"../skin-cancer-mnist-ham10000\"\n",
    "\n",
    "train_directory = os.path.join(base_directory, 'image_data_train')\n",
    "train_aug_directory = os.path.join(base_directory, 'image_data_train_augmented')\n",
    "validation_directory = os.path.join(base_directory, 'image_data_validation')\n",
    "test_directory = os.path.join(base_directory, 'image_data_test')\n",
    "\n",
    "\n",
    "train_type0 = os.path.join(train_directory, 'type_0')\n",
    "train_type1 = os.path.join(train_directory, 'type_1')\n",
    "train_type2 = os.path.join(train_directory, 'type_2')\n",
    "train_type3 = os.path.join(train_directory, 'type_3')\n",
    "train_type4 = os.path.join(train_directory, 'type_4')\n",
    "train_type5 = os.path.join(train_directory, 'type_5')\n",
    "train_type6 = os.path.join(train_directory, 'type_6')"
   ]
  },
  {
   "cell_type": "code",
   "execution_count": 8,
   "metadata": {},
   "outputs": [],
   "source": [
    "trainaug_type0 = os.path.join(train_aug_directory, 'type_0')\n",
    "trainaug_type1 = os.path.join(train_aug_directory, 'type_1')\n",
    "trainaug_type2 = os.path.join(train_aug_directory, 'type_2')\n",
    "trainaug_type3 = os.path.join(train_aug_directory, 'type_3')\n",
    "trainaug_type4 = os.path.join(train_aug_directory, 'type_4')\n",
    "trainaug_type5 = os.path.join(train_aug_directory, 'type_5')\n",
    "trainaug_type6 = os.path.join(train_aug_directory, 'type_6')"
   ]
  },
  {
   "cell_type": "code",
   "execution_count": 6,
   "metadata": {},
   "outputs": [],
   "source": [
    "val_type0 = os.path.join(validation_directory, 'type_0')\n",
    "val_type1 = os.path.join(validation_directory, 'type_1')\n",
    "val_type2 = os.path.join(validation_directory, 'type_2')\n",
    "val_type3 = os.path.join(validation_directory, 'type_3')\n",
    "val_type4 = os.path.join(validation_directory, 'type_4')\n",
    "val_type5 = os.path.join(validation_directory, 'type_5')\n",
    "val_type6 = os.path.join(validation_directory, 'type_6')"
   ]
  },
  {
   "cell_type": "code",
   "execution_count": 7,
   "metadata": {},
   "outputs": [],
   "source": [
    "test_type0 = os.path.join(test_directory, 'type_0')\n",
    "test_type1 = os.path.join(test_directory, 'type_1')\n",
    "test_type2 = os.path.join(test_directory, 'type_2')\n",
    "test_type3 = os.path.join(test_directory, 'type_3')\n",
    "test_type4 = os.path.join(test_directory, 'type_4')\n",
    "test_type5 = os.path.join(test_directory, 'type_5')\n",
    "test_type6 = os.path.join(test_directory, 'type_6')"
   ]
  },
  {
   "cell_type": "markdown",
   "metadata": {},
   "source": [
    "|Label|Original Image Count|Augmented Image Count|\n",
    "|---|---|---|\n",
    "|0|164|3575|\n",
    "|1|257|3804|\n",
    "|2|550|4298|\n",
    "|3|58|3419|\n",
    "|4|3352|3352|\n",
    "|5|71|3471|\n",
    "|6|556|4354|"
   ]
  },
  {
   "cell_type": "code",
   "execution_count": 10,
   "metadata": {},
   "outputs": [],
   "source": [
    "directories = [train_type0, train_type1, train_type2, train_type3, train_type4, train_type5, train_type6]"
   ]
  },
  {
   "cell_type": "code",
   "execution_count": 8,
   "metadata": {},
   "outputs": [],
   "source": [
    "im_gen  = ImageDataGenerator(\n",
    "        rotation_range = 360,\n",
    "        width_shift_range = 0.2,\n",
    "        height_shift_range = 0.2,\n",
    "        shear_range = 0.2,\n",
    "        zoom_range = 0.2,\n",
    "        horizontal_flip = True,\n",
    "        vertical_flip = True\n",
    ")"
   ]
  },
  {
   "cell_type": "code",
   "execution_count": 26,
   "metadata": {},
   "outputs": [],
   "source": [
    "#augments pictures for training\n",
    "for direct in directories:\n",
    "    list_dir = listdir(direct)\n",
    "    \n",
    "    count = 0\n",
    "    while count < 3352/len(list_dir): #to balance classes\n",
    "        for imag in list_dir:\n",
    "            #pull image\n",
    "            image1 = image.imread(f\"./skin-cancer-mnist-ham10000/image_data_train/type_{direct[-1]}/{imag}\")\n",
    "            #get random transformation\n",
    "            im_dict = im_gen.get_random_transform((450,600,3))\n",
    "            #apply it to image\n",
    "            new_im = im_gen.apply_transform(image1, im_dict)\n",
    "            image1 = Image.fromarray(new_im)\n",
    "            #save image to new directory\n",
    "            image1.save(f\"./skin-cancer-mnist-ham10000/image_data_train_augmented/type_{direct[-1]}/aug_{random.randint(1,10_000)}{count}.jpg\")\n",
    "        count += 1\n",
    "        \n",
    "    #adds the original pictures to the augmented directory as well      \n",
    "    for imag in list_dir: \n",
    "        orig_im = Image.open(f\"./skin-cancer-mnist-ham10000/image_data_train/type_{direct[-1]}/{imag}\")\n",
    "        orig_im.save(f\"./skin-cancer-mnist-ham10000/image_data_train_augmented/type_{direct[-1]}/{imag}\")"
   ]
  },
  {
   "cell_type": "code",
   "execution_count": 32,
   "metadata": {},
   "outputs": [],
   "source": [
    "#had to fix the picture count in class 4 specifically\n",
    "for imag in listdir(train_type4):\n",
    "    orig_im = Image.open(f\"./skin-cancer-mnist-ham10000/image_data_train/type_4/{imag}\")\n",
    "    orig_im.save(f\"./skin-cancer-mnist-ham10000/image_data_train_augmented/type_4/{imag}\")"
   ]
  },
  {
   "cell_type": "code",
   "execution_count": 9,
   "metadata": {},
   "outputs": [],
   "source": [
    "#had to balance the test data\n",
    "for test in [test_type0, test_type1, test_type2, test_type3, test_type4, test_type5, test_type6]:\n",
    "    count = 0\n",
    "    while count < 28:\n",
    "        imag = listdir(test)[count]\n",
    "        orig_im = Image.open(f\"./skin-cancer-mnist-ham10000/image_data_test/type_{test[-1]}/{imag}\")\n",
    "        orig_im.save(f\"./skin-cancer-mnist-ham10000/image_data_test_balanced/type_{test[-1]}/{imag}\")\n",
    "        count += 1"
   ]
  },
  {
   "cell_type": "code",
   "execution_count": null,
   "metadata": {},
   "outputs": [],
   "source": []
  }
 ],
 "metadata": {
  "kernelspec": {
   "display_name": "Python 3",
   "language": "python",
   "name": "python3"
  },
  "language_info": {
   "codemirror_mode": {
    "name": "ipython",
    "version": 3
   },
   "file_extension": ".py",
   "mimetype": "text/x-python",
   "name": "python",
   "nbconvert_exporter": "python",
   "pygments_lexer": "ipython3",
   "version": "3.7.3"
  }
 },
 "nbformat": 4,
 "nbformat_minor": 2
}
