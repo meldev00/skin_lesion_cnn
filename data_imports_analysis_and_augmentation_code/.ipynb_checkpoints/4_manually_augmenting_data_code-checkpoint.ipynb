{
 "cells": [
  {
   "cell_type": "code",
   "execution_count": 2,
   "metadata": {},
   "outputs": [
    {
     "name": "stderr",
     "output_type": "stream",
     "text": [
      "Using TensorFlow backend.\n"
     ]
    }
   ],
   "source": [
    "import pandas as pd\n",
    "import PIL\n",
    "from PIL import Image\n",
    "from matplotlib import image\n",
    "from keras.preprocessing.image import ImageDataGenerator\n",
    "import os, shutil\n",
    "from os import listdir\n",
    "import matplotlib.pyplot as plt\n",
    "import random"
   ]
  },
  {
   "cell_type": "code",
   "execution_count": 5,
   "metadata": {},
   "outputs": [],
   "source": [
    "base_directory = \"skin-cancer-mnist-ham10000\"\n",
    "\n",
    "train_directory = os.path.join(base_directory, 'image_data_train')\n",
    "train_aug_directory = os.path.join(base_directory, 'image_data_train_augmented')\n",
    "validation_directory = os.path.join(base_directory, 'image_data_validation')\n",
    "test_directory = os.path.join(base_directory, 'image_data_test')\n",
    "\n",
    "train_type0 = os.path.join(train_directory, 'type_0')\n",
    "train_type1 = os.path.join(train_directory, 'type_1')\n",
    "train_type2 = os.path.join(train_directory, 'type_2')\n",
    "train_type3 = os.path.join(train_directory, 'type_3')\n",
    "train_type4 = os.path.join(train_directory, 'type_4')\n",
    "train_type5 = os.path.join(train_directory, 'type_5')\n",
    "train_type6 = os.path.join(train_directory, 'type_6')"
   ]
  },
  {
   "cell_type": "code",
   "execution_count": 6,
   "metadata": {},
   "outputs": [],
   "source": [
    "val_type0 = os.path.join(validation_directory, 'type_0')\n",
    "val_type1 = os.path.join(validation_directory, 'type_1')\n",
    "val_type2 = os.path.join(validation_directory, 'type_2')\n",
    "val_type3 = os.path.join(validation_directory, 'type_3')\n",
    "val_type4 = os.path.join(validation_directory, 'type_4')\n",
    "val_type5 = os.path.join(validation_directory, 'type_5')\n",
    "val_type6 = os.path.join(validation_directory, 'type_6')"
   ]
  },
  {
   "cell_type": "code",
   "execution_count": 7,
   "metadata": {},
   "outputs": [],
   "source": [
    "test_type0 = os.path.join(test_directory, 'type_0')\n",
    "test_type1 = os.path.join(test_directory, 'type_1')\n",
    "test_type2 = os.path.join(test_directory, 'type_2')\n",
    "test_type3 = os.path.join(test_directory, 'type_3')\n",
    "test_type4 = os.path.join(test_directory, 'type_4')\n",
    "test_type5 = os.path.join(test_directory, 'type_5')\n",
    "test_type6 = os.path.join(test_directory, 'type_6')"
   ]
  },
  {
   "cell_type": "code",
   "execution_count": 6,
   "metadata": {},
   "outputs": [
    {
     "name": "stdout",
     "output_type": "stream",
     "text": [
      "skin-cancer-mnist-ham10000/image_data_validation/type_0: 82\n",
      "skin-cancer-mnist-ham10000/image_data_validation/type_1: 128\n",
      "skin-cancer-mnist-ham10000/image_data_validation/type_2: 274\n",
      "skin-cancer-mnist-ham10000/image_data_validation/type_3: 28\n",
      "skin-cancer-mnist-ham10000/image_data_validation/type_4: 1676\n",
      "skin-cancer-mnist-ham10000/image_data_validation/type_5: 36\n",
      "skin-cancer-mnist-ham10000/image_data_validation/type_6: 278\n"
     ]
    }
   ],
   "source": [
    "for val in [val_type0, val_type1, val_type2, val_type3, val_type4, val_type5, val_type6]:\n",
    "    print(f\"{val}: {len(listdir(val))}\")"
   ]
  },
  {
   "cell_type": "code",
   "execution_count": 3,
   "metadata": {},
   "outputs": [],
   "source": [
    "directories = [train_type0, train_type1, train_type2, train_type3, train_type4, train_type5, train_type6]"
   ]
  },
  {
   "cell_type": "code",
   "execution_count": 8,
   "metadata": {},
   "outputs": [],
   "source": [
    "im_gen  = ImageDataGenerator(\n",
    "        rotation_range = 360,\n",
    "        width_shift_range = 0.2,\n",
    "        height_shift_range = 0.2,\n",
    "        shear_range = 0.2,\n",
    "        zoom_range = 0.2,\n",
    "        horizontal_flip = True,\n",
    "        vertical_flip = True\n",
    ")"
   ]
  },
  {
   "cell_type": "code",
   "execution_count": 26,
   "metadata": {},
   "outputs": [],
   "source": [
    "# for direct in directories:\n",
    "#     list_dir = listdir(direct)\n",
    "    \n",
    "#     count = 0\n",
    "#     while count < 3352/len(list_dir):\n",
    "#         for imag in list_dir:\n",
    "#             image1 = image.imread(f\"./skin-cancer-mnist-ham10000/image_data_train/type_{direct[-1]}/{imag}\")\n",
    "#             im_dict = im_gen.get_random_transform((450,600,3))\n",
    "#             new_im = im_gen.apply_transform(image1, im_dict)\n",
    "#             image1 = Image.fromarray(new_im)\n",
    "#             image1.save(f\"./skin-cancer-mnist-ham10000/image_data_train_augmented/type_{direct[-1]}/aug_{random.randint(1,10_000)}{count}.jpg\")\n",
    "#         count += 1\n",
    "            \n",
    "#     for imag in list_dir: \n",
    "#         orig_im = Image.open(f\"./skin-cancer-mnist-ham10000/image_data_train/type_{direct[-1]}/{imag}\")\n",
    "#         orig_im.save(f\"./skin-cancer-mnist-ham10000/image_data_train_augmented/type_{direct[-1]}/{imag}\")"
   ]
  },
  {
   "cell_type": "code",
   "execution_count": 32,
   "metadata": {},
   "outputs": [],
   "source": [
    "# for imag in listdir(train_type4):\n",
    "#     orig_im = Image.open(f\"./skin-cancer-mnist-ham10000/image_data_train/type_4/{imag}\")\n",
    "#     orig_im.save(f\"./skin-cancer-mnist-ham10000/image_data_train_augmented/type_4/{imag}\")"
   ]
  },
  {
   "cell_type": "code",
   "execution_count": 9,
   "metadata": {},
   "outputs": [],
   "source": [
    "# for test in [test_type0, test_type1, test_type2, test_type3, test_type4, test_type5, test_type6]:\n",
    "#     count = 0\n",
    "#     while count < 28:\n",
    "#         imag = listdir(test)[count]\n",
    "#         orig_im = Image.open(f\"./skin-cancer-mnist-ham10000/image_data_test/type_{test[-1]}/{imag}\")\n",
    "#         orig_im.save(f\"./skin-cancer-mnist-ham10000/image_data_test_balanced/type_{test[-1]}/{imag}\")\n",
    "#         count += 1"
   ]
  },
  {
   "cell_type": "code",
   "execution_count": null,
   "metadata": {},
   "outputs": [],
   "source": []
  }
 ],
 "metadata": {
  "kernelspec": {
   "display_name": "Python 3",
   "language": "python",
   "name": "python3"
  },
  "language_info": {
   "codemirror_mode": {
    "name": "ipython",
    "version": 3
   },
   "file_extension": ".py",
   "mimetype": "text/x-python",
   "name": "python",
   "nbconvert_exporter": "python",
   "pygments_lexer": "ipython3",
   "version": "3.7.3"
  }
 },
 "nbformat": 4,
 "nbformat_minor": 2
}
