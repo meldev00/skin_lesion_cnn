{
 "cells": [
  {
   "cell_type": "markdown",
   "metadata": {},
   "source": [
    "> This notebook serves to separate the images by their label into folders that can be pulled during the augmentation and model fitting stages. Please note that since I could not upload the data to GitHub, you would need to download the data from Kaggle and create folders that are titled the same as mine to use this code in this way. "
   ]
  },
  {
   "cell_type": "code",
   "execution_count": null,
   "metadata": {},
   "outputs": [],
   "source": [
    "import pandas as pd\n",
    "import PIL\n",
    "from PIL import Image\n",
    "from matplotlib import image"
   ]
  },
  {
   "cell_type": "markdown",
   "metadata": {},
   "source": [
    "> Information data:"
   ]
  },
  {
   "cell_type": "code",
   "execution_count": null,
   "metadata": {},
   "outputs": [],
   "source": [
    "data = pd.read_csv(\"skin-cancer-mnist-ham10000/HAM10000_metadata.csv\")"
   ]
  },
  {
   "cell_type": "code",
   "execution_count": null,
   "metadata": {},
   "outputs": [],
   "source": [
    "data.head()"
   ]
  },
  {
   "cell_type": "markdown",
   "metadata": {},
   "source": [
    "> Dataframe containing labels"
   ]
  },
  {
   "cell_type": "code",
   "execution_count": null,
   "metadata": {},
   "outputs": [],
   "source": [
    "data_2 = pd.read_csv(\"./skin-cancer-mnist-ham10000/pre_processed_data_from_isic/hmnist_28_28_RGB.csv\")"
   ]
  },
  {
   "cell_type": "code",
   "execution_count": null,
   "metadata": {},
   "outputs": [],
   "source": [
    "label = data_2[\"label\"]"
   ]
  },
  {
   "cell_type": "markdown",
   "metadata": {},
   "source": [
    "> New dataframe with both image titles and labels:"
   ]
  },
  {
   "cell_type": "code",
   "execution_count": null,
   "metadata": {},
   "outputs": [],
   "source": [
    "data = pd.merge(data, label, left_index= True, right_index= True)"
   ]
  },
  {
   "cell_type": "code",
   "execution_count": null,
   "metadata": {},
   "outputs": [],
   "source": [
    "data[\"dx\"].value_counts()"
   ]
  },
  {
   "cell_type": "code",
   "execution_count": null,
   "metadata": {},
   "outputs": [],
   "source": [
    "data[\"label\"].value_counts()"
   ]
  },
  {
   "cell_type": "markdown",
   "metadata": {},
   "source": [
    "> Separating the pictures into train/test/validation sets. The train set has 50% of the overall data, the test set has 25% of the overall data and the validation set has 25% of the overall data."
   ]
  },
  {
   "cell_type": "code",
   "execution_count": null,
   "metadata": {},
   "outputs": [],
   "source": [
    "#taking 50% of overall data, by category, for the training df\n",
    "df4_train = data[data[\"label\"] == 4].sample(frac = .5)\n",
    "df6_train = data[data[\"label\"] == 6].sample(frac = .5)\n",
    "df2_train = data[data[\"label\"] == 2].sample(frac = .5)\n",
    "df1_train = data[data[\"label\"] == 1].sample(frac = .5)\n",
    "df0_train = data[data[\"label\"] == 0].sample(frac = .5)\n",
    "df5_train = data[data[\"label\"] == 5].sample(frac = .5)\n",
    "df3_train = data[data[\"label\"] == 3].sample(frac = .5)"
   ]
  },
  {
   "cell_type": "code",
   "execution_count": null,
   "metadata": {},
   "outputs": [],
   "source": [
    "#val df is created from the remainder of the original data\n",
    "val_test_df = data.drop(df4_train.index)\n",
    "val_test_df.drop(df6_train.index, inplace = True)\n",
    "val_test_df.drop(df2_train.index, inplace = True)\n",
    "val_test_df.drop(df1_train.index, inplace = True)\n",
    "val_test_df.drop(df0_train.index, inplace = True)\n",
    "val_test_df.drop(df5_train.index, inplace = True)\n",
    "val_test_df.drop(df3_train.index, inplace = True)"
   ]
  },
  {
   "cell_type": "code",
   "execution_count": null,
   "metadata": {},
   "outputs": [],
   "source": [
    "#taking 50% of the data that is left for the val df\n",
    "df4_val = val_test_df[val_test_df[\"label\"] == 4].sample(frac = .5)\n",
    "df6_val = val_test_df[val_test_df[\"label\"] == 6].sample(frac = .5)\n",
    "df2_val = val_test_df[val_test_df[\"label\"] == 2].sample(frac = .5)\n",
    "df1_val = val_test_df[val_test_df[\"label\"] == 1].sample(frac = .5)\n",
    "df0_val = val_test_df[val_test_df[\"label\"] == 0].sample(frac = .5)\n",
    "df5_val = val_test_df[val_test_df[\"label\"] == 5].sample(frac = .5)\n",
    "df3_val = val_test_df[val_test_df[\"label\"] == 3].sample(frac = .5)"
   ]
  },
  {
   "cell_type": "code",
   "execution_count": null,
   "metadata": {},
   "outputs": [],
   "source": [
    "#droping the val indices from the original data\n",
    "#left over is the test df\n",
    "test_df = val_test_df.drop(df4_val.index)\n",
    "test_df.drop(df6_val.index, inplace = True)\n",
    "test_df.drop(df2_val.index, inplace = True)\n",
    "test_df.drop(df1_val.index, inplace = True)\n",
    "test_df.drop(df0_val.index, inplace = True)\n",
    "test_df.drop(df5_val.index, inplace = True)\n",
    "test_df.drop(df3_val.index, inplace = True)"
   ]
  },
  {
   "cell_type": "code",
   "execution_count": null,
   "metadata": {},
   "outputs": [],
   "source": [
    "test_df.reset_index(inplace = True)"
   ]
  },
  {
   "cell_type": "code",
   "execution_count": null,
   "metadata": {},
   "outputs": [],
   "source": [
    "#combine all val classes\n",
    "val_df = df4_val.append(df6_val).append(df2_val).append(df1_val).append(df0_val).append(df5_val).append(df3_val)\n",
    "val_df.reset_index(inplace = True)"
   ]
  },
  {
   "cell_type": "code",
   "execution_count": null,
   "metadata": {},
   "outputs": [],
   "source": [
    "#combine all train classes\n",
    "train_df = df4_train.append(df6_train).append(df2_train).append(df1_train).append(df0_train).append(df5_train).append(df3_train)\n",
    "train_df.reset_index(inplace = True)"
   ]
  },
  {
   "cell_type": "code",
   "execution_count": null,
   "metadata": {},
   "outputs": [],
   "source": [
    "test_df[\"label\"].value_counts()"
   ]
  },
  {
   "cell_type": "code",
   "execution_count": null,
   "metadata": {},
   "outputs": [],
   "source": [
    "val_df[\"label\"].value_counts()"
   ]
  },
  {
   "cell_type": "code",
   "execution_count": null,
   "metadata": {},
   "outputs": [],
   "source": [
    "train_df[\"label\"].value_counts()"
   ]
  },
  {
   "cell_type": "code",
   "execution_count": null,
   "metadata": {},
   "outputs": [],
   "source": [
    "from keras.preprocessing.image import ImageDataGenerator\n",
    "\n",
    "im_gen = ImageDataGenerator(\n",
    "        rotation_range = 360,\n",
    "        width_shift_range = 0.2,\n",
    "        height_shift_range = 0.2,\n",
    "        shear_range = 0.2,\n",
    "        zoom_range = 0.2,\n",
    "        horizontal_flip = True,\n",
    "        vertical_flip = True\n",
    ")"
   ]
  },
  {
   "cell_type": "markdown",
   "metadata": {},
   "source": [
    "> Code to separate into labels and then save to folders:"
   ]
  },
  {
   "cell_type": "code",
   "execution_count": null,
   "metadata": {},
   "outputs": [],
   "source": [
    "#this iterates through each image in the training dataset created above by label and adds the image to the directory\n",
    "for i in range(7):\n",
    "    df = train_df[train_df[\"label\"] == i]\n",
    "    for j in df[\"image_id\"].values:\n",
    "        if int(j.replace(\"ISIC_00\",\"\")) < 29_306:\n",
    "            image1 = Image.open(f\"./skin-cancer-mnist-ham10000/HAM10000_images_part_1/{j}.jpg\")\n",
    "            image1.save(f\"./skin-cancer-mnist-ham10000/image_data_train/type_{i}/{j}.jpg\")\n",
    "\n",
    "        else:\n",
    "            image1 = Image.open(f\"./skin-cancer-mnist-ham10000/HAM10000_images_part_2/{j}.jpg\")\n",
    "            image1.save(f\"./skin-cancer-mnist-ham10000/image_data_train/type_{i}/{j}.jpg\")\n",
    "\n",
    "            \n",
    "#below code was added to create an augmented training data folder\n",
    "    count = 0\n",
    "    while count < (train_df[\"label\"].shape[0]/df.shape[0]): #balancing the classes\n",
    "        for s in df[\"image_id\"].values:\n",
    "        \n",
    "            str_count = str(count)\n",
    "            if int(s.replace(\"ISIC_00\",\"\")) < 29_306:\n",
    "                #find image in one folder\n",
    "                image2 = image.imread(f\"./skin-cancer-mnist-ham10000/HAM10000_images_part_1/{s}.jpg\")\n",
    "                #create a random transformation\n",
    "                im_dict = im_gen.get_random_transform((450,600,3))\n",
    "                #apply to image\n",
    "                new_im = im_gen.apply_transform(image2, im_dict)\n",
    "                image2 = Image.fromarray(new_im)\n",
    "                #save to augmented folder\n",
    "                image2.save(f\"./skin-cancer-mnist-ham10000/image_data_train_augmented/type_{i}/{s}{str_count}.jpg\")\n",
    "            else:\n",
    "                #same thing as above but pulling from the second image folder\n",
    "                image2 = image.imread(f\"./skin-cancer-mnist-ham10000/HAM10000_images_part_2/{s}.jpg\")\n",
    "                im_dict = im_gen.get_random_transform((450,600,3))\n",
    "                new_im = im_gen.apply_transform(image2, im_dict)\n",
    "                image2 = Image.fromarray(new_im)\n",
    "                image2.save(f\"./skin-cancer-mnist-ham10000/image_data_train_augmented/type_{i}/{s}{str_count}.jpg\")\n",
    "        count += 1"
   ]
  },
  {
   "cell_type": "code",
   "execution_count": null,
   "metadata": {},
   "outputs": [],
   "source": [
    "#creating the test directory\n",
    "for i in range(7):\n",
    "    df = test_df[test_df[\"label\"] == i]\n",
    "    for j in df[\"image_id\"].values:\n",
    "        if int(j.replace(\"ISIC_00\",\"\")) < 29_306:\n",
    "            image = Image.open(f\"./skin-cancer-mnist-ham10000/HAM10000_images_part_1/{j}.jpg\")\n",
    "            image.save(f\"./skin-cancer-mnist-ham10000/image_data_test//type_{i}/{j}.jpg\")\n",
    "        else:\n",
    "            image = Image.open(f\"./skin-cancer-mnist-ham10000/HAM10000_images_part_2/{j}.jpg\")\n",
    "            image.save(f\"./skin-cancer-mnist-ham10000/image_data_test//type_{i}/{j}.jpg\")"
   ]
  },
  {
   "cell_type": "code",
   "execution_count": null,
   "metadata": {},
   "outputs": [],
   "source": [
    "#creating the validation directory\n",
    "for i in range(7):\n",
    "    df = val_df[val_df[\"label\"] == i]\n",
    "    for j in df[\"image_id\"].values:\n",
    "        if int(j.replace(\"ISIC_00\",\"\")) < 29_306:\n",
    "            image = Image.open(f\"./skin-cancer-mnist-ham10000/HAM10000_images_part_1/{j}.jpg\")\n",
    "            image.save(f\"./skin-cancer-mnist-ham10000/image_data_validation//type_{i}/{j}.jpg\")\n",
    "        else:\n",
    "            image = Image.open(f\"./skin-cancer-mnist-ham10000/HAM10000_images_part_2/{j}.jpg\")\n",
    "            image.save(f\"./skin-cancer-mnist-ham10000/image_data_validation//type_{i}/{j}.jpg\")"
   ]
  },
  {
   "cell_type": "markdown",
   "metadata": {},
   "source": [
    "> It took about three minutes for the above cells to run."
   ]
  },
  {
   "cell_type": "code",
   "execution_count": null,
   "metadata": {},
   "outputs": [],
   "source": []
  }
 ],
 "metadata": {
  "kernelspec": {
   "display_name": "Python 3",
   "language": "python",
   "name": "python3"
  },
  "language_info": {
   "codemirror_mode": {
    "name": "ipython",
    "version": 3
   },
   "file_extension": ".py",
   "mimetype": "text/x-python",
   "name": "python",
   "nbconvert_exporter": "python",
   "pygments_lexer": "ipython3",
   "version": "3.7.3"
  }
 },
 "nbformat": 4,
 "nbformat_minor": 2
}
